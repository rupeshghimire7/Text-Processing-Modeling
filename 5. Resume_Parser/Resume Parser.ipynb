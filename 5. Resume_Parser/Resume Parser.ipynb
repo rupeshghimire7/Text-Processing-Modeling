{
 "cells": [
  {
   "cell_type": "markdown",
   "id": "75035c5e",
   "metadata": {},
   "source": [
    "# Learning Custom NER model in SpaCy to auto-detect named entities"
   ]
  },
  {
   "cell_type": "code",
   "execution_count": 72,
   "id": "f037b35a",
   "metadata": {},
   "outputs": [],
   "source": [
    "import spacy\n",
    "\n",
    "nlp = spacy.load('en_core_web_sm')"
   ]
  },
  {
   "cell_type": "code",
   "execution_count": 73,
   "id": "d4fe48f2",
   "metadata": {},
   "outputs": [
    {
     "data": {
      "text/plain": [
       "['tok2vec', 'tagger', 'parser', 'attribute_ruler', 'lemmatizer', 'ner']"
      ]
     },
     "execution_count": 73,
     "metadata": {},
     "output_type": "execute_result"
    }
   ],
   "source": [
    "nlp.pipe_names"
   ]
  },
  {
   "cell_type": "code",
   "execution_count": 74,
   "id": "20c28538",
   "metadata": {},
   "outputs": [
    {
     "name": "stdout",
     "output_type": "stream",
     "text": [
      "India GPE\n",
      "one CARDINAL\n",
      "Indian NORP\n",
      "USD 84 billion MONEY\n",
      "2021 DATE\n",
      "USD 24 billion MONEY\n",
      "2017 DATE\n",
      "India GPE\n",
      "Philip PERSON\n",
      "12% PERCENT\n",
      "2017 DATE\n",
      "22-25% PERCENT\n",
      "2021 DATE\n",
      "India GPE\n",
      "Amazon ORG\n",
      "One CARDINAL\n",
      "Amazon ORG\n",
      "Amazon ORG\n",
      "Amazon Music Limited ORG\n",
      "2007 DATE\n",
      "Flipkart ORG\n",
      "Indian NORP\n",
      "Amazon ORG\n",
      "Walmart ORG\n",
      "one CARDINAL\n",
      "US GPE\n",
      "Amazon ORG\n",
      "2010 DATE\n",
      "2011 DATE\n",
      "more than 3 CARDINAL\n",
      "India GPE\n",
      "over 30 million CARDINAL\n",
      "800 CARDINAL\n",
      "over 125,000 CARDINAL\n",
      "Indian NORP\n",
      "recent years DATE\n",
      "Freecharge PERSON\n",
      "Unicommerce GPE\n",
      "ShopClues PRODUCT\n",
      "Indian NORP\n",
      "ShopClues PRODUCT\n",
      "July 2011 DATE\n",
      "Gurugram ORG\n",
      "1.1 billion CARDINAL\n",
      "Nexus Venture Partners ORG\n",
      "Tiger Global PERSON\n",
      "Helion Ventures ORG\n",
      "more than 5 CARDINAL\n",
      "nine CARDINAL\n",
      "Paytm Mall PERSON\n",
      "Paytm PERSON\n",
      "Paytm Mall PERSON\n",
      "third ORDINAL\n",
      "Reliance Retail PERSON\n",
      "Reliance Jio PERSON\n",
      "Indian NORP\n",
      "Reliance ORG\n",
      "Reliance ORG\n",
      "India GPE\n",
      "two CARDINAL\n",
      "One CARDINAL\n",
      "Grofers ORG\n",
      "2013 DATE\n",
      "the last 5 years DATE\n",
      "daily DATE\n",
      "India GPE\n",
      "Indian NORP\n",
      "Digital Mall of Asia – Going live FAC\n",
      "2020 DATE\n",
      "Digital Mall of Asia FAC\n",
      "Yokeasia GPE\n",
      "zero CARDINAL\n",
      "monthly DATE\n",
      "one CARDINAL\n",
      "DMA ORG\n"
     ]
    }
   ],
   "source": [
    "article_text=\"\"\"India that previously comprised only a handful of players in the e-commerce space, is now home to many biggies and giants battling out with each other to reach the top. This is thanks to the overwhelming internet and smartphone penetration coupled with the ever-increasing digital adoption across the country. These new-age innovations not only gave emerging startups a unique platform to deliver seamless shopping experiences but also provided brick and mortar stores with a level-playing field to begin their online journeys without leaving their offline legacies.\n",
    "In the wake of so many players coming together on one platform, the Indian e-commerce market is envisioned to reach USD 84 billion in 2021 from USD 24 billion in 2017. Further, with the rate at which internet penetration is increasing, we can expect more and more international retailers coming to India in addition to a large pool of new startups. This, in turn, will provide a major Philip to the organized retail market and boost its share from 12% in 2017 to 22-25% by 2021. \n",
    "Here’s a view to the e-commerce giants that are dominating India’s online shopping space:\n",
    "Amazon – One of the uncontested global leaders, Amazon started its journey as a simple online bookstore that gradually expanded its reach to provide a large suite of diversified products including media, furniture, food, and electronics, among others. And now with the launch of Amazon Prime and Amazon Music Limited, it has taken customer experience to a godly level, which will remain undefeatable for a very long time. \n",
    "\n",
    "Flipkart – Founded in 2007, Flipkart is recognized as the national leader in the Indian e-commerce market. Just like Amazon, it started operating by selling books and then entered other categories such as electronics, fashion, and lifestyle, mobile phones, etc. And now that it has been acquired by Walmart, one of the largest leading platforms of e-commerce in the US, it has also raised its bar of customer offerings in all aspects and giving huge competition to Amazon. \n",
    "\n",
    "Snapdeal – Started as a daily deals platform in 2010, Snapdeal became a full-fledged online marketplace in 2011 comprising more than 3 lac sellers across India. The platform offers over 30 million products across 800+ diverse categories from over 125,000 regional, national, and international brands and retailers. The Indian e-commerce firm follows a robust strategy to stay at the forefront of innovation and deliver seamless customer offerings to its wide customer base. It has shown great potential for recovery in recent years despite losing Freecharge and Unicommerce. \n",
    "\n",
    "ShopClues – Another renowned name in the Indian e-commerce industry, ShopClues was founded in July 2011. It’s a Gurugram based company having a current valuation of INR 1.1 billion and is backed by prominent names including Nexus Venture Partners, Tiger Global, and Helion Ventures as its major investors. Presently, the platform comprises more than 5 lac sellers selling products in nine different categories such as computers, cameras, mobiles, etc. \n",
    "\n",
    "Paytm Mall – To compete with the existing e-commerce giants, Paytm, an online payment system has also launched its online marketplace – Paytm Mall, which offers a wide array of products ranging from men and women fashion to groceries and cosmetics, electronics and home products, and many more. The unique thing about this platform is that it serves as a medium for third parties to sell their products directly through the widely-known app – Paytm. \n",
    "\n",
    "Reliance Retail – Given Reliance Jio’s disruptive venture in the Indian telecom space along with a solid market presence of Reliance, it is no wonder that Reliance will soon be foraying into retail space. As of now, it has plans to build an e-commerce space that will be established on online-to-offline market program and aim to bring local merchants on board to help them boost their sales and compete with the existing industry leaders. \n",
    "Big Basket – India’s biggest online supermarket, Big Basket provides a wide variety of imported and gourmet products through two types of delivery services – express delivery and slotted delivery. It also offers pre-cut fruits along with a long list of beverages including fresh juices, cold drinks, hot teas, etc. Moreover, it not only provides farm-fresh products but also ensures that the farmer gets better prices. \n",
    "\n",
    "Grofers – One of the leading e-commerce players in the grocery segment, Grofers started its operations in 2013 and has reached overwhelming heights in the last 5 years. Its wide range of products includes atta, milk, oil, daily need products, vegetables, dairy products, juices, beverages, among others. With its growing reach across India, it has become one of the favorite supermarkets for Indian consumers who want to shop grocery items from the comforts of their homes. \n",
    "\n",
    "Digital Mall of Asia – Going live in 2020, Digital Mall of Asia is a very unique concept coined by the founders of Yokeasia Malls. It is designed to provide an immersive digital space equipped with multiple visual and sensory elements to sellers and shoppers. It will also give retailers exclusive rights to sell a particular product category or brand in their respective cities. What makes it unique is its zero-commission model enabling retailers to pay only a fixed amount of monthly rental instead of paying commissions. With its one-of-a-kind features, DMA is expected to bring\n",
    "never-seen transformation to the current e-commerce ecosystem while addressing all the existing e-commerce worries such as counterfeiting. \"\"\"\n",
    "\n",
    "doc=nlp(article_text)\n",
    "for ent in doc.ents:\n",
    "  print(ent.text,ent.label_)"
   ]
  },
  {
   "cell_type": "markdown",
   "id": "aad44cf7",
   "metadata": {},
   "source": [
    "Observe the above output. Notice that FLIPKART has been identified as PERSON, it should have been ORG . Walmart has also been categorized wrongly as LOC , in this context it should have been ORG . Same goes for Freecharge , ShopClues ,etc..\n"
   ]
  },
  {
   "cell_type": "markdown",
   "id": "16fdac78",
   "metadata": {},
   "source": [
    "### Training NER to correctly classify "
   ]
  },
  {
   "cell_type": "code",
   "execution_count": 75,
   "id": "0544e4ab",
   "metadata": {},
   "outputs": [],
   "source": [
    "ner = nlp.get_pipe('ner')"
   ]
  },
  {
   "cell_type": "markdown",
   "id": "f63ebd13",
   "metadata": {},
   "source": [
    "spaCy accepts training data as list of tuples.\n",
    "\n",
    "Each tuple should contain the text and a dictionary. The dictionary should hold the start and end indices of the named enity in the text, and the category or label of the named entity.\n",
    "\n",
    "For example, (\"Walmart is a leading e-commerce company\", {\"entities\": [(0, 7, \"ORG\")]})"
   ]
  },
  {
   "cell_type": "code",
   "execution_count": 76,
   "id": "9843d62d",
   "metadata": {},
   "outputs": [],
   "source": [
    "# training data\n",
    "TRAIN_DATA = [\n",
    "              (\"Walmart is a leading e-commerce company\", {\"entities\": [(0, 7, \"ORG\")]}),\n",
    "              (\"I reached Chennai yesterday.\", {\"entities\": [(10, 16, \"GPE\")]}),\n",
    "              (\"I recently ordered a book from Amazon\", {\"entities\": [(24,32, \"ORG\")]}),\n",
    "              (\"I was driving a BMW\", {\"entities\": [(16,19, \"PRODUCT\")]}),\n",
    "              (\"I ordered this from ShopClues\", {\"entities\": [(20,29, \"ORG\")]}),\n",
    "              (\"Fridge can be ordered in Amazon \", {\"entities\": [(0,6, \"PRODUCT\")]}),\n",
    "              (\"I bought a new Washer\", {\"entities\": [(16,22, \"PRODUCT\")]}),\n",
    "              (\"I bought a old table\", {\"entities\": [(16,21, \"PRODUCT\")]}),\n",
    "              (\"I bought a fancy dress\", {\"entities\": [(18,23, \"PRODUCT\")]}),\n",
    "              (\"I rented a camera\", {\"entities\": [(12,18, \"PRODUCT\")]}),\n",
    "              (\"I rented a tent for our trip\", {\"entities\": [(12,16, \"PRODUCT\")]}),\n",
    "              (\"I rented a screwdriver from our neighbour\", {\"entities\": [(12,22, \"PRODUCT\")]}),\n",
    "              (\"I repaired my computer\", {\"entities\": [(15,23, \"PRODUCT\")]}),\n",
    "              (\"I got my clock fixed\", {\"entities\": [(16,21, \"PRODUCT\")]}),\n",
    "              (\"I got my truck fixed\", {\"entities\": [(16,21, \"PRODUCT\")]}),\n",
    "              (\"Flipkart started it's journey from zero\", {\"entities\": [(0,8, \"ORG\")]}),\n",
    "              (\"I recently ordered from Max\", {\"entities\": [(24,27, \"ORG\")]}),\n",
    "              (\"Flipkart is recognized as leader in market\",{\"entities\": [(0,8, \"ORG\")]}),\n",
    "              (\"I recently ordered from Swiggy\", {\"entities\": [(24,29, \"ORG\")]}),\n",
    "              (\"I am driving a Toyota.\", {\"entities\":[(16,21,\"PRODUCT\")]})\n",
    "              ]"
   ]
  },
  {
   "cell_type": "code",
   "execution_count": 77,
   "id": "eeba8c19",
   "metadata": {},
   "outputs": [],
   "source": [
    "# Adding labels to the `ner`\n",
    "\n",
    "for _, annotations in TRAIN_DATA:\n",
    "  for ent in annotations.get(\"entities\"):\n",
    "    ner.add_label(ent[2])"
   ]
  },
  {
   "cell_type": "code",
   "execution_count": 78,
   "id": "2d1b00f2",
   "metadata": {},
   "outputs": [],
   "source": [
    "# While training one pipeline, other pipelines shouldn't be affected\n",
    "\n",
    "# Disable pipeline components you dont need to change\n",
    "pipe_exceptions = [\"ner\", \"trf_wordpiecer\", \"trf_tok2vec\"]\n",
    "unaffected_pipes = [pipe for pipe in nlp.pipe_names if pipe not in pipe_exceptions]"
   ]
  },
  {
   "cell_type": "markdown",
   "id": "20e274db",
   "metadata": {},
   "source": [
    "(a) To train an ner model, the model has to be looped over the example for sufficient number of iterations. If you train it for like just 5 or 6 iterations, it may not be effective.\n",
    "\n",
    "(b) Before every iteration it’s a good practice to shuffle the examples randomly throughrandom.shuffle() function to ensure the model does not make generalizations based on the order of the examples.\n",
    "\n",
    "(c) The training data is usually passed in batches."
   ]
  },
  {
   "cell_type": "markdown",
   "id": "7c8cabf3",
   "metadata": {},
   "source": [
    "You can call the minibatch() function of spaCy over the training data that will return you data in batches . The minibatch function takes size parameter to denote the batch size. You can make use of the utility function compounding to generate an infinite series of compounding values.\n",
    "\n",
    "compunding() function takes three inputs which are start ( the first integer value) ,stop (the maximum value that can be generated) and finally compound. This value stored in compund is the compounding factor for the series.If you are not clear, check out this link for understanding.\n",
    "\n",
    "For each iteration , the model or ner is updated through the nlp.update() command. Parameters of nlp.update() are :\n",
    "\n",
    "    docs: This expects a batch of texts as input. You can pass each batch to the zip method, which will return you batches of text and annotations. `\n",
    "\n",
    "    golds: You can pass the annotations we got through zip method here\n",
    "\n",
    "    drop: This represents the dropout rate.\n",
    "\n",
    "    losses: A dictionary to hold the losses against each pipeline component. Create an empty dictionary and pass it here.\n",
    "\n",
    "At each word, the update() it makes a prediction. It then consults the annotations to check if the prediction is right. If it isn’t , it adjusts the weights so that the correct action will score higher next time.\n",
    "\n",
    "Finally, all of the training is done within the context of the nlp model with disabled pipeline, to prevent the other components from being involved."
   ]
  },
  {
   "cell_type": "code",
   "execution_count": 79,
   "id": "337b2e68",
   "metadata": {},
   "outputs": [
    {
     "name": "stdout",
     "output_type": "stream",
     "text": [
      "Losses {'ner': 13.9771563638423}\n"
     ]
    },
    {
     "name": "stderr",
     "output_type": "stream",
     "text": [
      "/home/contra/.local/lib/python3.10/site-packages/spacy/training/iob_utils.py:149: UserWarning: [W030] Some entities could not be aligned in the text \"I rented a screwdriver from our neighbour\" with entities \"[(12, 22, 'PRODUCT')]\". Use `spacy.training.offsets_to_biluo_tags(nlp.make_doc(text), entities)` to check the alignment. Misaligned entities ('-') will be ignored during training.\n",
      "  warnings.warn(\n",
      "/home/contra/.local/lib/python3.10/site-packages/spacy/training/iob_utils.py:149: UserWarning: [W030] Some entities could not be aligned in the text \"I reached Chennai yesterday.\" with entities \"[(10, 16, 'GPE')]\". Use `spacy.training.offsets_to_biluo_tags(nlp.make_doc(text), entities)` to check the alignment. Misaligned entities ('-') will be ignored during training.\n",
      "  warnings.warn(\n",
      "/home/contra/.local/lib/python3.10/site-packages/spacy/training/iob_utils.py:149: UserWarning: [W030] Some entities could not be aligned in the text \"I am driving a Toyota.\" with entities \"[(16, 21, 'PRODUCT')]\". Use `spacy.training.offsets_to_biluo_tags(nlp.make_doc(text), entities)` to check the alignment. Misaligned entities ('-') will be ignored during training.\n",
      "  warnings.warn(\n",
      "/home/contra/.local/lib/python3.10/site-packages/spacy/training/iob_utils.py:149: UserWarning: [W030] Some entities could not be aligned in the text \"I got my clock fixed\" with entities \"[(16, 21, 'PRODUCT')]\". Use `spacy.training.offsets_to_biluo_tags(nlp.make_doc(text), entities)` to check the alignment. Misaligned entities ('-') will be ignored during training.\n",
      "  warnings.warn(\n",
      "/home/contra/.local/lib/python3.10/site-packages/spacy/training/iob_utils.py:149: UserWarning: [W030] Some entities could not be aligned in the text \"I bought a new Washer\" with entities \"[(16, 22, 'PRODUCT')]\". Use `spacy.training.offsets_to_biluo_tags(nlp.make_doc(text), entities)` to check the alignment. Misaligned entities ('-') will be ignored during training.\n",
      "  warnings.warn(\n",
      "/home/contra/.local/lib/python3.10/site-packages/spacy/training/iob_utils.py:149: UserWarning: [W030] Some entities could not be aligned in the text \"I got my truck fixed\" with entities \"[(16, 21, 'PRODUCT')]\". Use `spacy.training.offsets_to_biluo_tags(nlp.make_doc(text), entities)` to check the alignment. Misaligned entities ('-') will be ignored during training.\n",
      "  warnings.warn(\n",
      "/home/contra/.local/lib/python3.10/site-packages/spacy/training/iob_utils.py:149: UserWarning: [W030] Some entities could not be aligned in the text \"I rented a tent for our trip\" with entities \"[(12, 16, 'PRODUCT')]\". Use `spacy.training.offsets_to_biluo_tags(nlp.make_doc(text), entities)` to check the alignment. Misaligned entities ('-') will be ignored during training.\n",
      "  warnings.warn(\n",
      "/home/contra/.local/lib/python3.10/site-packages/spacy/training/iob_utils.py:149: UserWarning: [W030] Some entities could not be aligned in the text \"I bought a fancy dress\" with entities \"[(18, 23, 'PRODUCT')]\". Use `spacy.training.offsets_to_biluo_tags(nlp.make_doc(text), entities)` to check the alignment. Misaligned entities ('-') will be ignored during training.\n",
      "  warnings.warn(\n",
      "/home/contra/.local/lib/python3.10/site-packages/spacy/training/iob_utils.py:149: UserWarning: [W030] Some entities could not be aligned in the text \"I bought a old table\" with entities \"[(16, 21, 'PRODUCT')]\". Use `spacy.training.offsets_to_biluo_tags(nlp.make_doc(text), entities)` to check the alignment. Misaligned entities ('-') will be ignored during training.\n",
      "  warnings.warn(\n",
      "/home/contra/.local/lib/python3.10/site-packages/spacy/training/iob_utils.py:149: UserWarning: [W030] Some entities could not be aligned in the text \"I repaired my computer\" with entities \"[(15, 23, 'PRODUCT')]\". Use `spacy.training.offsets_to_biluo_tags(nlp.make_doc(text), entities)` to check the alignment. Misaligned entities ('-') will be ignored during training.\n",
      "  warnings.warn(\n",
      "/home/contra/.local/lib/python3.10/site-packages/spacy/training/iob_utils.py:149: UserWarning: [W030] Some entities could not be aligned in the text \"I rented a camera\" with entities \"[(12, 18, 'PRODUCT')]\". Use `spacy.training.offsets_to_biluo_tags(nlp.make_doc(text), entities)` to check the alignment. Misaligned entities ('-') will be ignored during training.\n",
      "  warnings.warn(\n",
      "/home/contra/.local/lib/python3.10/site-packages/spacy/training/iob_utils.py:149: UserWarning: [W030] Some entities could not be aligned in the text \"I recently ordered a book from Amazon\" with entities \"[(24, 32, 'ORG')]\". Use `spacy.training.offsets_to_biluo_tags(nlp.make_doc(text), entities)` to check the alignment. Misaligned entities ('-') will be ignored during training.\n",
      "  warnings.warn(\n",
      "/home/contra/.local/lib/python3.10/site-packages/spacy/training/iob_utils.py:149: UserWarning: [W030] Some entities could not be aligned in the text \"I recently ordered from Swiggy\" with entities \"[(24, 29, 'ORG')]\". Use `spacy.training.offsets_to_biluo_tags(nlp.make_doc(text), entities)` to check the alignment. Misaligned entities ('-') will be ignored during training.\n",
      "  warnings.warn(\n"
     ]
    },
    {
     "name": "stdout",
     "output_type": "stream",
     "text": [
      "Losses {'ner': 12.285115603818763}\n",
      "Losses {'ner': 11.546935547412808}\n",
      "Losses {'ner': 8.5671408131798}\n",
      "Losses {'ner': 8.69265727982853}\n",
      "Losses {'ner': 4.612449450881454}\n",
      "Losses {'ner': 4.257090980177775}\n",
      "Losses {'ner': 3.0995573838552875}\n",
      "Losses {'ner': 4.683424434282797}\n",
      "Losses {'ner': 2.6093997939594584}\n",
      "Losses {'ner': 3.9578975267199423}\n",
      "Losses {'ner': 2.259847518117554}\n",
      "Losses {'ner': 4.826305386370259}\n",
      "Losses {'ner': 0.04189992520967517}\n",
      "Losses {'ner': 0.5532236750269922}\n",
      "Losses {'ner': 1.3733060068577314}\n",
      "Losses {'ner': 2.595102990073144}\n",
      "Losses {'ner': 0.07269885696994079}\n",
      "Losses {'ner': 7.420432282286659e-05}\n",
      "Losses {'ner': 1.7360327066079668}\n",
      "Losses {'ner': 4.031402664763472}\n",
      "Losses {'ner': 0.18942591569940428}\n",
      "Losses {'ner': 0.810541170752198}\n",
      "Losses {'ner': 0.1173423028761718}\n",
      "Losses {'ner': 0.001454015186435243}\n",
      "Losses {'ner': 0.018201167020807568}\n",
      "Losses {'ner': 0.05359590678632756}\n",
      "Losses {'ner': 6.542456480857925e-05}\n",
      "Losses {'ner': 0.0036747235965190746}\n",
      "Losses {'ner': 0.0010822008172607924}\n"
     ]
    }
   ],
   "source": [
    "import random\n",
    "from spacy.training.example import Example\n",
    "from spacy.util import minibatch, compounding\n",
    "from pathlib import Path\n",
    "\n",
    "# TRAINING THE MODEL\n",
    "with nlp.disable_pipes(*unaffected_pipes):\n",
    "\n",
    "    # Training for 30 iterations\n",
    "    for iteration in range(30):\n",
    "\n",
    "        # Shuffling examples before every iteration\n",
    "        random.shuffle(TRAIN_DATA)\n",
    "        losses = {}\n",
    "\n",
    "        # Batch up the examples using spaCy's minibatch\n",
    "        batches = minibatch(TRAIN_DATA, size=compounding(4.0, 32.0, 1.001))\n",
    "\n",
    "        for batch in batches:\n",
    "            examples = []\n",
    "            for text, annotation in batch:\n",
    "                example = Example.from_dict(nlp.make_doc(text), annotation)\n",
    "                examples.append(example)\n",
    "\n",
    "            nlp.update(\n",
    "                examples,  # batch of Example objects\n",
    "                drop=0.5,  # dropout - make it harder to memorize data\n",
    "                losses=losses,\n",
    "            )\n",
    "\n",
    "        print(\"Losses\", losses)"
   ]
  },
  {
   "cell_type": "code",
   "execution_count": 80,
   "id": "19746786",
   "metadata": {},
   "outputs": [
    {
     "name": "stdout",
     "output_type": "stream",
     "text": [
      "\n",
      "Entities [('AUDI', 'PRODUCT')]\n"
     ]
    }
   ],
   "source": [
    "doc = nlp(\"I am driving a AUDI\")\n",
    "print()\n",
    "print(\"Entities\", [(ent.text, ent.label_) for ent in doc.ents])"
   ]
  },
  {
   "cell_type": "markdown",
   "id": "1c17766e",
   "metadata": {},
   "source": [
    "You can observe that even though I didn’t directly train the model to recognize “AUDI” as a vehicle name, it has predicted based on the similarity of context.\n",
    "\n",
    "This is the awesome part of the NER model.\n",
    "\n",
    "The model does not just memorize the training examples. It should learn from them and be able to generalize it to new examples."
   ]
  },
  {
   "cell_type": "code",
   "execution_count": 81,
   "id": "65bbdb5c",
   "metadata": {},
   "outputs": [],
   "source": [
    "# # Save the  model to directory\n",
    "# output_dir = Path('nlp')\n",
    "# nlp.to_disk(output_dir)\n",
    "# print(\"Saved model to\", output_dir)\n",
    "\n",
    "# # Load the saved model and predict\n",
    "# print(\"Loading from\", output_dir)\n",
    "# nlp_updated = spacy.load(output_dir)\n",
    "# doc = nlp_updated(\"Fridge can be ordered in FlipKart\" )\n",
    "# print(\"Entities\", [(ent.text, ent.label_) for ent in doc.ents])"
   ]
  },
  {
   "cell_type": "markdown",
   "id": "b034c089",
   "metadata": {},
   "source": [
    "#### Training ner from blank spacy model"
   ]
  },
  {
   "cell_type": "markdown",
   "id": "69f70512",
   "metadata": {},
   "source": [
    "As it is an empty model , it does not have any pipeline component by default. You have to add the ner to the pipeline through `add_pipe()` method.\n",
    "\n",
    "You’ll not have to disable other pipelines as in previous case\n",
    "\n",
    "You must provide a larger number of training examples comparitively in rhis case.\n",
    "\n",
    "Before you start training the new model set `nlp.begin_training()`."
   ]
  },
  {
   "cell_type": "code",
   "execution_count": 82,
   "id": "e9327486",
   "metadata": {},
   "outputs": [
    {
     "data": {
      "text/plain": [
       "<thinc.optimizers.Optimizer at 0x7f420282da80>"
      ]
     },
     "execution_count": 82,
     "metadata": {},
     "output_type": "execute_result"
    }
   ],
   "source": [
    "nlp=spacy.blank(\"en\")\n",
    "\n",
    "ner = nlp.add_pipe('ner')\n",
    "\n",
    "nlp.begin_training()\n",
    "\n",
    "#After this, you can follow the same exact procedure as in the case for pre-existing model.\n",
    "#This is how you can train the named entity recognizer to identify and categorize correctly as per the context."
   ]
  },
  {
   "cell_type": "markdown",
   "id": "937b159a",
   "metadata": {},
   "source": [
    "#### Adding new entity type"
   ]
  },
  {
   "cell_type": "code",
   "execution_count": 83,
   "id": "4252ee53",
   "metadata": {},
   "outputs": [],
   "source": [
    "nlp=spacy.load(\"en_core_web_sm\") \n",
    "\n",
    "# Getting the ner component\n",
    "ner=nlp.get_pipe('ner')"
   ]
  },
  {
   "cell_type": "code",
   "execution_count": 84,
   "id": "f2696ae2",
   "metadata": {},
   "outputs": [],
   "source": [
    "# New label to add\n",
    "LABEL = \"FOOD\"\n",
    "\n",
    "# Training examples in the required format\n",
    "TRAIN_DATA =[ (\"Pizza is a common fast food.\", {\"entities\": [(0, 5, \"FOOD\")]}),\n",
    "              (\"Pasta is an italian recipe\", {\"entities\": [(0, 5, \"FOOD\")]}),\n",
    "              (\"China's noodles are very famous\", {\"entities\": [(8,14, \"FOOD\")]}),\n",
    "              (\"Shrimps are famous in China too\", {\"entities\": [(0,7, \"FOOD\")]}),\n",
    "              (\"Lasagna is another classic of Italy\", {\"entities\": [(0,7, \"FOOD\")]}),\n",
    "              (\"Sushi is extemely famous and expensive Japanese dish\", {\"entities\": [(0,5, \"FOOD\")]}),\n",
    "              (\"Unagi is a famous seafood of Japan\", {\"entities\": [(0,5, \"FOOD\")]}),\n",
    "              (\"Tempura , Soba are other famous dishes of Japan\", {\"entities\": [(0,7, \"FOOD\")]}),\n",
    "              (\"Udon is a healthy type of noodles\", {\"entities\": [(0,4, \"ORG\")]}),\n",
    "              (\"Chocolate soufflé is extremely famous french cuisine\", {\"entities\": [(0,17, \"FOOD\")]}),\n",
    "              (\"Flamiche is french pastry\", {\"entities\": [(0,8, \"FOOD\")]}),\n",
    "              (\"Burgers are the most commonly consumed fastfood\", {\"entities\": [(0,7, \"FOOD\")]}),\n",
    "              (\"Burgers are the most commonly consumed fastfood\", {\"entities\": [(0,7, \"FOOD\")]}),\n",
    "              (\"Frenchfries are considered too oily\", {\"entities\": [(0,11, \"FOOD\")]}),\n",
    "              (\"I ate Pasta. Pasta is tasty.\", {\"entities\":[(6,11,\"FOOD\"), (12,17,\"FOOD\")]})\n",
    "           ]"
   ]
  },
  {
   "cell_type": "code",
   "execution_count": 85,
   "id": "782a145e",
   "metadata": {},
   "outputs": [],
   "source": [
    "# Add the new label to ner\n",
    "ner.add_label(LABEL)\n",
    "\n",
    "# Resume training\n",
    "optimizer = nlp.resume_training()\n",
    "move_names = list(ner.move_names)\n",
    "\n",
    "# List of pipes you want to train\n",
    "pipe_exceptions = [\"ner\", \"trf_wordpiecer\", \"trf_tok2vec\"]\n",
    "\n",
    "# List of pipes which should remain unaffected in training\n",
    "other_pipes = [pipe for pipe in nlp.pipe_names if pipe not in pipe_exceptions]"
   ]
  },
  {
   "cell_type": "code",
   "execution_count": 86,
   "id": "3881e55f",
   "metadata": {},
   "outputs": [
    {
     "name": "stderr",
     "output_type": "stream",
     "text": [
      "/home/contra/.local/lib/python3.10/site-packages/spacy/training/iob_utils.py:149: UserWarning: [W030] Some entities could not be aligned in the text \"China's noodles are very famous\" with entities \"[(8, 14, 'FOOD')]\". Use `spacy.training.offsets_to_biluo_tags(nlp.make_doc(text), entities)` to check the alignment. Misaligned entities ('-') will be ignored during training.\n",
      "  warnings.warn(\n",
      "/home/contra/.local/lib/python3.10/site-packages/spacy/training/iob_utils.py:149: UserWarning: [W030] Some entities could not be aligned in the text \"I ate Pasta. Pasta is tasty.\" with entities \"[(6, 11, 'FOOD'), (12, 17, 'FOOD')]\". Use `spacy.training.offsets_to_biluo_tags(nlp.make_doc(text), entities)` to check the alignment. Misaligned entities ('-') will be ignored during training.\n",
      "  warnings.warn(\n"
     ]
    },
    {
     "name": "stdout",
     "output_type": "stream",
     "text": [
      "Losses {'ner': 35.5110822299458}\n",
      "Losses {'ner': 29.59050418805498}\n",
      "Losses {'ner': 27.245973437629004}\n",
      "Losses {'ner': 27.891098902582616}\n",
      "Losses {'ner': 21.996921687520626}\n",
      "Losses {'ner': 22.09606195749052}\n",
      "Losses {'ner': 20.380360020568332}\n",
      "Losses {'ner': 17.304002318174753}\n",
      "Losses {'ner': 15.748360321915243}\n",
      "Losses {'ner': 20.936289012781344}\n",
      "Losses {'ner': 14.4717055890942}\n",
      "Losses {'ner': 11.189857555669732}\n",
      "Losses {'ner': 8.455215350317303}\n",
      "Losses {'ner': 8.813771430723136}\n",
      "Losses {'ner': 5.622159225023097}\n",
      "Losses {'ner': 3.2460395492910834}\n",
      "Losses {'ner': 4.244475671227024}\n",
      "Losses {'ner': 3.833080125352737}\n",
      "Losses {'ner': 3.608760729033867}\n",
      "Losses {'ner': 3.0387880080739937}\n",
      "Losses {'ner': 4.728233427958036}\n",
      "Losses {'ner': 5.084212401576973}\n",
      "Losses {'ner': 4.050221489557719}\n",
      "Losses {'ner': 1.791718887978489}\n",
      "Losses {'ner': 2.366056361443631}\n",
      "Losses {'ner': 1.6670740343313302}\n",
      "Losses {'ner': 1.4873293624819082}\n",
      "Losses {'ner': 2.3885286445604668}\n",
      "Losses {'ner': 2.0115464616039405}\n",
      "Losses {'ner': 2.1969717703392417}\n"
     ]
    }
   ],
   "source": [
    "# TRAINING THE MODEL\n",
    "with nlp.disable_pipes(*other_pipes):\n",
    "\n",
    "    # Training for 30 iterations\n",
    "    for iteration in range(30):\n",
    "\n",
    "        # Shuffling examples before every iteration\n",
    "        random.shuffle(TRAIN_DATA)\n",
    "        losses = {}\n",
    "\n",
    "        # Batch up the examples using spaCy's minibatch\n",
    "        batches = minibatch(TRAIN_DATA, size=compounding(4.0, 32.0, 1.001))\n",
    "\n",
    "        for batch in batches:\n",
    "            examples = []\n",
    "            for text, annotation in batch:\n",
    "                example = Example.from_dict(nlp.make_doc(text), annotation)\n",
    "                examples.append(example)\n",
    "\n",
    "            nlp.update(\n",
    "                examples,  # batch of Example objects\n",
    "                drop=0.5,  # dropout - make it harder to memorize data\n",
    "                losses=losses,\n",
    "            )\n",
    "\n",
    "        print(\"Losses\", losses)"
   ]
  },
  {
   "cell_type": "code",
   "execution_count": 87,
   "id": "118e9c9d",
   "metadata": {},
   "outputs": [
    {
     "name": "stdout",
     "output_type": "stream",
     "text": [
      "Entities in 'I ate Sushi yesterday. Maggi is a common fast food '\n",
      "Sushi\n",
      "Maggi\n"
     ]
    }
   ],
   "source": [
    "test_text = \"I ate Sushi yesterday. Maggi is a common fast food \"\n",
    "doc = nlp(test_text)\n",
    "print(\"Entities in '%s'\" % test_text)\n",
    "for ent in doc.ents:\n",
    "  print(ent)"
   ]
  },
  {
   "cell_type": "code",
   "execution_count": 88,
   "id": "6c5d5743",
   "metadata": {},
   "outputs": [],
   "source": [
    "# output_dir=Path('new_entity')\n",
    "\n",
    "# # Saving the model to the output directory\n",
    "# if not output_dir.exists():\n",
    "#   output_dir.mkdir()\n",
    "# nlp.meta['name'] = 'my_ner'  # rename model\n",
    "# nlp.to_disk(output_dir)\n",
    "# print(\"Saved model to\", output_dir)\n",
    "\n",
    "# # Loading the model from the directory\n",
    "# print(\"Loading from\", output_dir)\n",
    "# nlp2 = spacy.load(output_dir)\n",
    "# assert nlp2.get_pipe(\"ner\").move_names == move_names\n",
    "# doc2 = nlp2(' Dosa is an extremely famous south Indian dish')\n",
    "# for ent in doc2.ents:\n",
    "#   print(ent.label_, ent.text)"
   ]
  },
  {
   "cell_type": "markdown",
   "id": "c39eb21f",
   "metadata": {},
   "source": [
    "# Resume Parser using Spacy"
   ]
  },
  {
   "cell_type": "code",
   "execution_count": 89,
   "id": "4a1575b9",
   "metadata": {},
   "outputs": [
    {
     "name": "stdout",
     "output_type": "stream",
     "text": [
      "Defaulting to user installation because normal site-packages is not writeable\n",
      "Requirement already satisfied: pdfminer.six in /home/contra/.local/lib/python3.10/site-packages (20231228)\n",
      "Requirement already satisfied: charset-normalizer>=2.0.0 in /home/contra/.local/lib/python3.10/site-packages (from pdfminer.six) (3.0.1)\n",
      "Requirement already satisfied: cryptography>=36.0.0 in /home/contra/.local/lib/python3.10/site-packages (from pdfminer.six) (42.0.1)\n",
      "Requirement already satisfied: cffi>=1.12 in /home/contra/.local/lib/python3.10/site-packages (from cryptography>=36.0.0->pdfminer.six) (1.15.1)\n",
      "Requirement already satisfied: pycparser in /home/contra/.local/lib/python3.10/site-packages (from cffi>=1.12->cryptography>=36.0.0->pdfminer.six) (2.21)\n"
     ]
    }
   ],
   "source": [
    "!pip install pdfminer.six"
   ]
  },
  {
   "cell_type": "code",
   "execution_count": 90,
   "id": "4e6a5b76",
   "metadata": {},
   "outputs": [],
   "source": [
    "from pdfminer.high_level import extract_text\n",
    "\n",
    "def extract_text_from_pdf(pdf_path):\n",
    "    return extract_text(pdf_path)"
   ]
  },
  {
   "cell_type": "code",
   "execution_count": 91,
   "id": "abd03d18",
   "metadata": {},
   "outputs": [],
   "source": [
    "def parse_resume(text):\n",
    "    doc = nlp(text)\n",
    "\n",
    "    # Extract information based on spaCy's NER (Named Entity Recognition) capabilities\n",
    "    entities = [(ent.text, ent.label_) for ent in doc.ents]\n",
    "\n",
    "    return entities"
   ]
  },
  {
   "cell_type": "code",
   "execution_count": 126,
   "id": "ee2a27ff",
   "metadata": {},
   "outputs": [
    {
     "data": {
      "text/plain": [
       "['tok2vec', 'tagger', 'parser', 'attribute_ruler', 'lemmatizer', 'ner']"
      ]
     },
     "execution_count": 126,
     "metadata": {},
     "output_type": "execute_result"
    }
   ],
   "source": [
    "nlp = spacy.load(\"en_core_web_sm\")\n",
    "ner = nlp.get_pipe('ner')\n",
    "nlp.pipe_names"
   ]
  },
  {
   "cell_type": "code",
   "execution_count": 127,
   "id": "482cccb1",
   "metadata": {},
   "outputs": [
    {
     "data": {
      "text/plain": [
       "['tok2vec', 'tagger', 'parser', 'attribute_ruler', 'lemmatizer']"
      ]
     },
     "execution_count": 127,
     "metadata": {},
     "output_type": "execute_result"
    }
   ],
   "source": [
    "pipe_exceptions = [\"ner\", \"trf_wordpiecer\", \"trf_tok2vec\"]\n",
    "unaffected_pipes = [pipe for pipe in nlp.pipe_names if pipe not in pipe_exceptions]\n",
    "unaffected_pipes"
   ]
  },
  {
   "cell_type": "code",
   "execution_count": 139,
   "id": "461b5047",
   "metadata": {},
   "outputs": [],
   "source": [
    "# Add the new label to ner\n",
    "Label1 = \"TENURE\"\n",
    "Label2 = \"SKILLS\"\n",
    "Label3 = \"COURSE\"\n",
    "Label4 = \"INVOLVEMENT\"\n",
    "Label5 = \"EXPERIENCE\"\n",
    "Label6 = \"SOCIALS\"\n",
    "Label7 = \"EDUCATION\"\n",
    "# Label8 = \"ORG\" # for education and work institutions\n",
    "\n",
    "# label=[]\n",
    "# for i in range(1, 6):\n",
    "#     label.append(globals()[f\"Label{i}\"])\n",
    "\n",
    "for i in range(1,8):\n",
    "    ner.add_label(globals()[f\"Label{i}\"])\n",
    "\n",
    "# # Resume training\n",
    "optimizer = nlp.resume_training()\n",
    "move_names = list(ner.move_names)"
   ]
  },
  {
   "cell_type": "code",
   "execution_count": 140,
   "id": "5de67e1c",
   "metadata": {
    "scrolled": false
   },
   "outputs": [
    {
     "data": {
      "text/plain": [
       "('CARDINAL',\n",
       " 'COURSE',\n",
       " 'DATE',\n",
       " 'EDUCATION',\n",
       " 'EVENT',\n",
       " 'EXPERIENCE',\n",
       " 'FAC',\n",
       " 'GPE',\n",
       " 'INVOLVEMENT',\n",
       " 'LANGUAGE',\n",
       " 'LAW',\n",
       " 'LOC',\n",
       " 'MONEY',\n",
       " 'NORP',\n",
       " 'ORDINAL',\n",
       " 'ORG',\n",
       " 'PERCENT',\n",
       " 'PERSON',\n",
       " 'PRODUCT',\n",
       " 'QUANTITY',\n",
       " 'SKILLS',\n",
       " 'SOCIALS',\n",
       " 'TENURE',\n",
       " 'TIME',\n",
       " 'WORK_OF_ART')"
      ]
     },
     "execution_count": 140,
     "metadata": {},
     "output_type": "execute_result"
    }
   ],
   "source": [
    "ner.labels"
   ]
  },
  {
   "cell_type": "code",
   "execution_count": 130,
   "id": "b12319d1",
   "metadata": {},
   "outputs": [],
   "source": [
    "resume = \"\"\"Rupesh Ghimire\n",
    "rupeshghimire007@gmail.com | +977-9868155925\n",
    "\n",
    "EDUCATION\n",
    "Pashchimanchal Campus, IOE, TU\n",
    "Bachelor in Computer Engineering\n",
    "2019-Present\n",
    "Fusemachines\n",
    "Micro-Degree in Artificial Intelligence\n",
    "2023-Present\n",
    "Fellowship Scholar\n",
    "LINKS\n",
    "Github:// rupeshghimire7\n",
    "LinkedIn:// rupesh-ghimire7\n",
    "Medium:// rupeshghimire7\n",
    "LeetCode:// rupeshghimire7\n",
    "INVOLVEMENTS\n",
    "NAAMI | ANAIS-Student Ambassador\n",
    "Apr 2023 - Jun 2023\n",
    "i-CES | Django Mentor\n",
    "Jan 2023 - Feb 2023 | Pokhara\n",
    "Made attendees familiar with Python and Django's MVC\n",
    "architecture, ORM, Templates and Rest Framework.\n",
    "Coding Competition (GCES) - 2023\n",
    "Code with Coffee (i-CES) - 2022\n",
    "PROJECTS\n",
    "LIVER CIRRHOSIS PREDICTION\n",
    "Fusemachines ML Final Project | (Feb 2023- Apr 2023)\n",
    "Worked on the multiclass classification problem with\n",
    "various classifiers to predict the stage of patients' liver.\n",
    "Deployed on Flask.\n",
    "BCT Study Room\n",
    "Software Engineering Project | (May 2022- Jul 2022)\n",
    "A django web-app to enable discussion in groups.\n",
    "BookSuggestor\n",
    "COURSEWORKSDBMS Project\n",
    "Leveraged RAW SQL for database management using\n",
    "MySQL in Django bypassing Django's ORM.\n",
    "UNDERGRADUATETelegram Chat Bot\n",
    "Data Structures & Algorithms\n",
    "Operating Systems\n",
    "Database Management System\n",
    "Software Engineering\n",
    "Artificial Intelligence\n",
    "Computer NetworksPersonal Project\n",
    "Used Telegram API for configuration and python for\n",
    "implementation.\n",
    "Machine Learning AlgorithmsACHIEVEMENTS\n",
    "FUSEMACHINES\n",
    "PROGRAMMING SKILLS\n",
    "EXPERIENCED\n",
    "Python | Django\n",
    "Tailwind CSS | HTML5 | CSS3\n",
    "INTERMEDIATE\n",
    "Pytorch\n",
    "MySQL\n",
    "Pandas | Numpy\n",
    "Matplotlib | Seaborn | Scikit-Learn\n",
    "RESTful API\n",
    "C/C++\n",
    "FAMILIAR\n",
    "Tensorflow/ Keras\n",
    "JavaScript | ReactJS\n",
    "ML Projects\n",
    "Personal Project\n",
    "Collection of Regression and Classification projects.\n",
    "HultPrize 2021\n",
    "To build viable food enterprises to create jobs, stimulate\n",
    "economies, reimagine supply chains, and improve outcomes for\n",
    "10,000,000 people by 2030.\n",
    "OnCampus: 1st Runner Up\n",
    "Regional Summit: Participant via Wildcard\n",
    "Golden Jubilee Scholarship Scheme\n",
    "Awarded from Embassy of India, Kathmandu for\n",
    "Undergrad Studies.\n",
    "LANGUAGES\n",
    "Nepali - Native Proficiency\n",
    "English - Professional Working Proficiency\"\"\""
   ]
  },
  {
   "cell_type": "code",
   "execution_count": 131,
   "id": "51f0ea1b",
   "metadata": {},
   "outputs": [],
   "source": [
    "resume = resume.replace('\\n', ' ').replace('|', '')"
   ]
  },
  {
   "cell_type": "markdown",
   "id": "9ea621bd",
   "metadata": {},
   "source": [
    "### TRAINER FUNCTION\n",
    "\n",
    "Takes list train data of form:\n",
    "        \n",
    "        [(\"Pizza is a common fast food.\", {\"entities\": [(0, 5, \"FOOD\")]}),\n",
    "        (\"Pasta is an italian recipe\", {\"entities\": [(0, 5, \"FOOD\")]})]\n",
    "        \n",
    "Resume Doc is spacy doc object of resume:"
   ]
  },
  {
   "cell_type": "code",
   "execution_count": 145,
   "id": "d297207e",
   "metadata": {},
   "outputs": [],
   "source": [
    "def trainer(TRAIN_DATA,resume_doc):\n",
    "    optimizer = nlp.resume_training()\n",
    "    move_names = list(ner.move_names)\n",
    "    \n",
    "    # TRAINING THE MODEL\n",
    "    with nlp.disable_pipes(*unaffected_pipes):\n",
    "\n",
    "        # Training for n iterations\n",
    "        for iteration in range(10):\n",
    "\n",
    "            # Shuffling examples before every iteration\n",
    "            random.shuffle(TRAIN_DATA)\n",
    "            losses = {}\n",
    "\n",
    "            # Batch up the examples using spaCy's minibatch\n",
    "            batches = minibatch(TRAIN_DATA, size=compounding(4.0, 32.0, 1.001))\n",
    "\n",
    "            for batch in batches:\n",
    "                examples = []\n",
    "                for text, annotation in batch:\n",
    "                    example = Example.from_dict(nlp.make_doc(text), annotation)\n",
    "                    examples.append(example)\n",
    "\n",
    "                nlp.update(\n",
    "                    examples,  \n",
    "                    sgd=optimizer,\n",
    "                    drop=0.5,  \n",
    "                    losses=losses,\n",
    "                )\n",
    "\n",
    "            print(\"Losses\", losses)\n",
    "            \n",
    "        skills = []\n",
    "        tenure = []\n",
    "        experience = []\n",
    "        course = []\n",
    "        involvement = []\n",
    "        org = []\n",
    "        education = []\n",
    "        \n",
    "        for ent in doc.ents:\n",
    "            if ent.label_ == \"SKILLS\":\n",
    "                skills.append(ent.text)\n",
    "                print(\"SKILL:\", ent.text)\n",
    "            elif ent.label_ == \"COURSE\":\n",
    "                course.append(ent.text)\n",
    "                print(\"COURSE:\", ent.text)\n",
    "            elif ent.label_ == \"TENURE\":\n",
    "                tenure.append(ent.text)\n",
    "                print(\"TENURE:\", ent.text)\n",
    "            elif ent.label_ == \"ORG\":\n",
    "                org.append(ent.text)\n",
    "                print(\"ORG:\", ent.text)\n",
    "            elif ent.label_ == \"INVOLVEMENT\":\n",
    "                involvement.append(ent.text)\n",
    "                print(\"INVOLVEMENT:\", ent.text)\n",
    "            elif ent.label_ == \"EXPERIENCE\":\n",
    "                experience.append(ent.text)\n",
    "                print(\"EXPERIENCE:\", ent.text)\n",
    "            elif ent.label_ == \"EDUCATION\":\n",
    "                education.append(ent.text)\n",
    "                print(\"EDUCATION:\", ent.text)\n",
    "            else: pass\n",
    "        \n",
    "        return skills, course, tenure, org, involvement, experience, education\n",
    "    \n"
   ]
  },
  {
   "cell_type": "markdown",
   "id": "fce4e4f8",
   "metadata": {},
   "source": [
    "### Data Generator function\n",
    "\n",
    "Label -> \"SKILLS\"\n",
    "\n",
    "List of data -> ['React', 'Django', 'Machine Learning', 'AI']  "
   ]
  },
  {
   "cell_type": "code",
   "execution_count": 154,
   "id": "eb238488",
   "metadata": {},
   "outputs": [],
   "source": [
    "def data_generator(label,data_list,level=None):\n",
    "    training_data = []\n",
    "\n",
    "    for i in range(len(data_list)):\n",
    "        data = data_list[i]\n",
    "        start_index = 0\n",
    "        end_index = start_index + len(data)\n",
    "        training_data.append((data, {\"entities\": [(start_index, end_index, label)]}))\n",
    "\n",
    "    return training_data"
   ]
  },
  {
   "cell_type": "markdown",
   "id": "c51bf909",
   "metadata": {},
   "source": [
    "### Creating data for tecnhical skills i.e. Entity Label : SKILLS"
   ]
  },
  {
   "cell_type": "code",
   "execution_count": 146,
   "id": "49b0109a",
   "metadata": {},
   "outputs": [],
   "source": [
    "technical_skills = [\n",
    "    # Programming Languages\n",
    "    \"Python\", \"Java\", \"C++\", \"JavaScript\", \"HTML\", \"CSS\", \"Ruby\", \"Go\", \"Swift\", \"Kotlin\",\n",
    "    \"TypeScript\", \"Rust\", \"Scala\", \"PHP\", \"C#\", \"Objective-C\",\n",
    "\n",
    "    # Web Development\n",
    "    \"Django\", \"Flask\", \"Node.js\", \"Express.js\", \"React\", \"Angular\", \"Vue.js\", \"Next.js\",\n",
    "    \"Spring Boot\", \"Ruby on Rails\", \"ASP.NET\", \"Meteor\", \"HTML5\", \"CSS3\", \"Bootstrap\",\n",
    "\n",
    "    # Databases\n",
    "    \"SQL\", \"MySQL\", \"PostgreSQL\", \"MongoDB\", \"Redis\", \"SQLite\", \"Firebase\", \"Cassandra\",\n",
    "\n",
    "    # Machine Learning / Data Science\n",
    "    \"TensorFlow\", \"PyTorch\", \"Scikit-learn\", \"Keras\", \"Pandas\", \"NumPy\", \"Matplotlib\",\n",
    "    \"Seaborn\", \"NLTK\", \"Spacy\", \"Scrapy\", \"Beautiful Soup\",\n",
    "\n",
    "    # Cloud Computing\n",
    "    \"AWS\", \"Azure\", \"Google Cloud Platform (GCP)\", \"Docker\", \"Kubernetes\", \"Heroku\",\n",
    "\n",
    "    # DevOps\n",
    "    \"Jenkins\", \"Travis CI\", \"GitLab CI\", \"Ansible\", \"Terraform\", \"Docker Compose\",\n",
    "\n",
    "    # Version Control\n",
    "    \"Git\", \"GitHub\", \"Bitbucket\", \"GitLab\",\n",
    "\n",
    "    # Mobile Development\n",
    "    \"React Native\", \"Flutter\", \"Xamarin\", \"SwiftUI\", \"Android SDK\",\n",
    "\n",
    "    # Frameworks\n",
    "    \"React\", \"Angular\", \"Vue.js\", \"Django\", \"Flask\", \"Ruby on Rails\", \"Spring Boot\", \"Express.js\",\n",
    "\n",
    "    # Libraries\n",
    "    \"Pandas\", \"NumPy\", \"Matplotlib\", \"Seaborn\", \"NLTK\", \"Spacy\", \"Scrapy\", \"Beautiful Soup\",\n",
    "\n",
    "    # Frontend Technologies\n",
    "    \"React\", \"Angular\", \"Vue.js\", \"Next.js\", \"TypeScript\", \"Webpack\", \"Babel\", \"SASS\",\n",
    "\n",
    "    # Backend Technologies\n",
    "    \"Node.js\", \"Django\", \"Flask\", \"Spring Boot\", \"Ruby on Rails\", \"Express.js\", \"PHP\",\n",
    "\n",
    "    # Mobile Frameworks\n",
    "    \"React Native\", \"Flutter\", \"Xamarin\", \"SwiftUI\", \"Android SDK\",\n",
    "\n",
    "    # Networking\n",
    "    \"TCP/IP\", \"HTTP/HTTPS\", \"DNS\", \"Load Balancing\", \"Firewalls\", \"Proxy Servers\",\n",
    "\n",
    "    # Security\n",
    "    \"Cybersecurity\", \"Penetration Testing\", \"Cryptography\", \"OWASP\", \"SSL/TLS\",\n",
    "\n",
    "    # Operating Systems\n",
    "    \"Linux\", \"Windows\", \"macOS\", \"Unix\",\n",
    "\n",
    "    # Other Technologies\n",
    "    \"Blockchain\", \"Serverless\", \"Microservices\", \"RESTful API\", \"GraphQL\",\n",
    "\n",
    "    # Project Management / Agile\n",
    "    \"Scrum\", \"Kanban\", \"Agile\", \"JIRA\", \"Trello\",\n",
    "\n",
    "    # Miscellaneous\n",
    "    \"Data Manipulation\", \"Natural Language Processing (NLP)\", \"Computer Vision\",\n",
    "]\n",
    "level = ['beginner', 'intermediate', 'expert']"
   ]
  },
  {
   "cell_type": "code",
   "execution_count": 153,
   "id": "1a5bbe3d",
   "metadata": {
    "scrolled": true
   },
   "outputs": [
    {
     "name": "stdout",
     "output_type": "stream",
     "text": [
      "('Python', {'entities': [(0, 6, 'SKILLS')]})\n",
      "('Java', {'entities': [(0, 4, 'SKILLS')]})\n",
      "('C++', {'entities': [(0, 3, 'SKILLS')]})\n",
      "('JavaScript', {'entities': [(0, 10, 'SKILLS')]})\n",
      "('HTML', {'entities': [(0, 4, 'SKILLS')]})\n",
      "('JIRA', {'entities': [(0, 4, 'SKILLS')]})\n",
      "('Trello', {'entities': [(0, 6, 'SKILLS')]})\n",
      "('Data Manipulation', {'entities': [(0, 17, 'SKILLS')]})\n",
      "('Natural Language Processing (NLP)', {'entities': [(0, 33, 'SKILLS')]})\n",
      "('Computer Vision', {'entities': [(0, 15, 'SKILLS')]})\n",
      "TRAIN_DATA length 136\n"
     ]
    }
   ],
   "source": [
    "TRAIN_DATA = data_generator(\"SKILLS\",technical_skills, level)\n",
    "\n",
    "for data in TRAIN_DATA[:5]:\n",
    "    print(data)\n",
    "for data in TRAIN_DATA[-5:]:\n",
    "    print(data)\n",
    "print(\"TRAIN_DATA length\", len(TRAIN_DATA))"
   ]
  },
  {
   "cell_type": "code",
   "execution_count": 156,
   "id": "2ac861eb",
   "metadata": {},
   "outputs": [
    {
     "name": "stdout",
     "output_type": "stream",
     "text": [
      "Losses {'ner': 0.008960743059662227}\n",
      "Losses {'ner': 7.617366391243015e-05}\n",
      "Losses {'ner': 0.020943281238995106}\n",
      "Losses {'ner': 9.62696453844033e-06}\n",
      "Losses {'ner': 0.0035727945813399664}\n",
      "Losses {'ner': 0.0005496944615650698}\n",
      "Losses {'ner': 6.869120225059044e-07}\n",
      "Losses {'ner': 2.319660427829893e-07}\n",
      "Losses {'ner': 9.670310305236177e-07}\n",
      "Losses {'ner': 2.087947047659063}\n",
      "SKILL: Rupesh Ghimire rupeshghimire007@gmail.com  \n",
      "SKILL: +977-9868155925  EDUCATION Pashchimanchal Campus, IOE\n",
      "SKILL: TU Bachelor\n",
      "SKILL: Computer Engineering\n",
      "SKILL: 2019-Present Fusemachines Micro-Degree\n",
      "SKILL: Artificial Intelligence 2023-Present Fellowship Scholar LINKS Github:// rupeshghimire7\n",
      "SKILL: rupesh-ghimire7 Medium:// rupeshghimire7\n",
      "SKILL: LeetCode:// rupeshghimire7 INVOLVEMENTS NAAMI  ANAIS-Student Ambassador Apr 2023 - Jun 2023 i-CES  Django Mentor\n",
      "SKILL: 2023 - Feb 2023  \n",
      "SKILL: Pokhara Made\n",
      "SKILL: Python and Django's MVC architecture,\n",
      "SKILL: ORM, Templates\n",
      "SKILL: Rest Framework\n",
      "SKILL: Coding Competition (GCES) - 2023 Code with Coffee\n",
      "SKILL: i-CES) - 2022 PROJECTS LIVER CIRRHOSIS PREDICTION Fusemachines ML Final Project  (Feb 2023- Apr 2023) Worked on the multiclass classification problem\n",
      "SKILL: Deployed on Flask\n",
      "SKILL: BCT Study Room Software Engineering Project  (May 2022- Jul 2022)\n",
      "SKILL: web-app\n",
      "SKILL: BookSuggestor COURSEWORKSDBMS Project Leveraged RAW SQL\n",
      "SKILL: using MySQL in Django bypassing Django's ORM\n",
      "SKILL: UNDERGRADUATETelegram Chat Bot Data Structures & Algorithms Operating Systems Database Management System Software Engineering Artificial Intelligence Computer NetworksPersonal Project Used Telegram API\n",
      "SKILL: python for implementation.\n",
      "SKILL: Machine Learning AlgorithmsACHIEVEMENTS FUSEMACHINES PROGRAMMING SKILLS EXPERIENCED Python  Django Tailwind CSS  HTML5  \n",
      "SKILL: CSS3 INTERMEDIATE Pytorch MySQL Pandas  Numpy Matplotlib  Seaborn  Scikit-Learn RESTful API C/C++\n",
      "SKILL: FAMILIAR Tensorflow/ Keras JavaScript  ReactJS ML Projects Personal Project Collection of Regression and Classification\n",
      "SKILL: HultPrize 2021 To\n",
      "SKILL: , stimulate economies\n",
      "SKILL: reimagine supply chains\n",
      "SKILL: outcomes for 10,000,000 people by 2030\n",
      "SKILL: OnCampus\n",
      "SKILL: 1st Runner Up Regional Summit: Participant\n",
      "SKILL: Wildcard Golden Jubilee Scholarship Scheme Awarded from Embassy of India\n",
      "SKILL: Kathmandu for Undergrad Studies\n",
      "SKILL: LANGUAGES Nepali - Native Proficiency English - Professional Working Proficiency\n"
     ]
    }
   ],
   "source": [
    "results = trainer(TRAIN_DATA, nlp(resume))"
   ]
  },
  {
   "cell_type": "markdown",
   "id": "f700d4cc",
   "metadata": {},
   "source": [
    "**It does look good but there is a lot of room for improvement**"
   ]
  },
  {
   "cell_type": "markdown",
   "id": "496a45bb",
   "metadata": {},
   "source": [
    "### Train Tenure (for eg: Jan 2023 - Jan 2024)"
   ]
  },
  {
   "cell_type": "code",
   "execution_count": 141,
   "id": "322f7ac2",
   "metadata": {},
   "outputs": [],
   "source": []
  },
  {
   "cell_type": "code",
   "execution_count": 142,
   "id": "f8594e4b",
   "metadata": {},
   "outputs": [],
   "source": []
  },
  {
   "cell_type": "code",
   "execution_count": null,
   "id": "6cfa119c",
   "metadata": {},
   "outputs": [],
   "source": []
  }
 ],
 "metadata": {
  "kernelspec": {
   "display_name": "Python 3 (ipykernel)",
   "language": "python",
   "name": "python3"
  },
  "language_info": {
   "codemirror_mode": {
    "name": "ipython",
    "version": 3
   },
   "file_extension": ".py",
   "mimetype": "text/x-python",
   "name": "python",
   "nbconvert_exporter": "python",
   "pygments_lexer": "ipython3",
   "version": "3.10.6"
  }
 },
 "nbformat": 4,
 "nbformat_minor": 5
}
