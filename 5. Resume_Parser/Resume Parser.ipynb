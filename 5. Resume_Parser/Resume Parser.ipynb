{
 "cells": [
  {
   "cell_type": "markdown",
   "id": "c39eb21f",
   "metadata": {},
   "source": [
    "# Resume Parser using Spacy"
   ]
  },
  {
   "cell_type": "code",
   "execution_count": 1,
   "id": "4a1575b9",
   "metadata": {
    "scrolled": true
   },
   "outputs": [],
   "source": [
    "# !pip install pdfminer.six"
   ]
  },
  {
   "cell_type": "code",
   "execution_count": 2,
   "id": "c82e4c32",
   "metadata": {},
   "outputs": [
    {
     "name": "stderr",
     "output_type": "stream",
     "text": [
      "2024-01-27 17:33:58.934766: I tensorflow/core/platform/cpu_feature_guard.cc:182] This TensorFlow binary is optimized to use available CPU instructions in performance-critical operations.\n",
      "To enable the following instructions: AVX2 FMA, in other operations, rebuild TensorFlow with the appropriate compiler flags.\n",
      "2024-01-27 17:34:00.597151: W tensorflow/compiler/tf2tensorrt/utils/py_utils.cc:38] TF-TRT Warning: Could not find TensorRT\n",
      "/usr/lib/python3/dist-packages/scipy/__init__.py:146: UserWarning: A NumPy version >=1.17.3 and <1.25.0 is required for this version of SciPy (detected version 1.26.3\n",
      "  warnings.warn(f\"A NumPy version >={np_minversion} and <{np_maxversion}\"\n",
      "2024-01-27 17:34:03.072863: I tensorflow/compiler/xla/stream_executor/cuda/cuda_gpu_executor.cc:996] successful NUMA node read from SysFS had negative value (-1), but there must be at least one NUMA node, so returning NUMA node zero. See more at https://github.com/torvalds/linux/blob/v6.0/Documentation/ABI/testing/sysfs-bus-pci#L344-L355\n",
      "2024-01-27 17:34:03.074410: W tensorflow/core/common_runtime/gpu/gpu_device.cc:1956] Cannot dlopen some GPU libraries. Please make sure the missing libraries mentioned above are installed properly if you would like to use GPU. Follow the guide at https://www.tensorflow.org/install/gpu for how to download and setup the required libraries for your platform.\n",
      "Skipping registering GPU devices...\n"
     ]
    }
   ],
   "source": [
    "import spacy\n",
    "import random\n",
    "from spacy.training.example import Example\n",
    "from spacy.util import minibatch, compounding\n",
    "from pathlib import Path"
   ]
  },
  {
   "cell_type": "code",
   "execution_count": 3,
   "id": "4e6a5b76",
   "metadata": {},
   "outputs": [],
   "source": [
    "from pdfminer.high_level import extract_text\n",
    "\n",
    "def extract_text_from_pdf(pdf_path):\n",
    "    return extract_text(pdf_path)"
   ]
  },
  {
   "cell_type": "code",
   "execution_count": 4,
   "id": "abd03d18",
   "metadata": {},
   "outputs": [],
   "source": [
    "def parse_resume(text):\n",
    "    doc = nlp(text)\n",
    "\n",
    "    # Extract information based on spaCy's NER (Named Entity Recognition) capabilities\n",
    "    entities = [(ent.text, ent.label_) for ent in doc.ents]\n",
    "\n",
    "    return entities"
   ]
  },
  {
   "cell_type": "code",
   "execution_count": 5,
   "id": "ee2a27ff",
   "metadata": {},
   "outputs": [
    {
     "data": {
      "text/plain": [
       "['tok2vec', 'tagger', 'parser', 'attribute_ruler', 'lemmatizer', 'ner']"
      ]
     },
     "execution_count": 5,
     "metadata": {},
     "output_type": "execute_result"
    }
   ],
   "source": [
    "nlp = spacy.load(\"en_core_web_sm\")\n",
    "ner = nlp.get_pipe('ner')\n",
    "nlp.pipe_names"
   ]
  },
  {
   "cell_type": "code",
   "execution_count": 6,
   "id": "482cccb1",
   "metadata": {},
   "outputs": [
    {
     "data": {
      "text/plain": [
       "['tok2vec', 'tagger', 'parser', 'attribute_ruler', 'lemmatizer']"
      ]
     },
     "execution_count": 6,
     "metadata": {},
     "output_type": "execute_result"
    }
   ],
   "source": [
    "pipe_exceptions = [\"ner\", \"trf_wordpiecer\", \"trf_tok2vec\"]\n",
    "unaffected_pipes = [pipe for pipe in nlp.pipe_names if pipe not in pipe_exceptions]\n",
    "unaffected_pipes"
   ]
  },
  {
   "cell_type": "code",
   "execution_count": 7,
   "id": "461b5047",
   "metadata": {},
   "outputs": [],
   "source": [
    "# Add the new label to ner\n",
    "Label1 = \"TENURE\"\n",
    "Label2 = \"SKILLS\"\n",
    "Label3 = \"COURSE\"\n",
    "Label4 = \"INVOLVEMENT\"\n",
    "Label5 = \"EXPERIENCE\"\n",
    "Label6 = \"SOCIALS\"\n",
    "Label7 = \"EDUCATION\"\n",
    "# Label8 = \"ORG\" # for education and work institutions\n",
    "\n",
    "# label=[]\n",
    "# for i in range(1, 6):\n",
    "#     label.append(globals()[f\"Label{i}\"])\n",
    "\n",
    "for i in range(1,8):\n",
    "    ner.add_label(globals()[f\"Label{i}\"])\n",
    "\n",
    "# # Resume training\n",
    "optimizer = nlp.resume_training()\n",
    "move_names = list(ner.move_names)"
   ]
  },
  {
   "cell_type": "code",
   "execution_count": 8,
   "id": "5de67e1c",
   "metadata": {
    "scrolled": false
   },
   "outputs": [
    {
     "data": {
      "text/plain": [
       "('CARDINAL',\n",
       " 'COURSE',\n",
       " 'DATE',\n",
       " 'EDUCATION',\n",
       " 'EVENT',\n",
       " 'EXPERIENCE',\n",
       " 'FAC',\n",
       " 'GPE',\n",
       " 'INVOLVEMENT',\n",
       " 'LANGUAGE',\n",
       " 'LAW',\n",
       " 'LOC',\n",
       " 'MONEY',\n",
       " 'NORP',\n",
       " 'ORDINAL',\n",
       " 'ORG',\n",
       " 'PERCENT',\n",
       " 'PERSON',\n",
       " 'PRODUCT',\n",
       " 'QUANTITY',\n",
       " 'SKILLS',\n",
       " 'SOCIALS',\n",
       " 'TENURE',\n",
       " 'TIME',\n",
       " 'WORK_OF_ART')"
      ]
     },
     "execution_count": 8,
     "metadata": {},
     "output_type": "execute_result"
    }
   ],
   "source": [
    "ner.labels"
   ]
  },
  {
   "cell_type": "code",
   "execution_count": 9,
   "id": "b12319d1",
   "metadata": {},
   "outputs": [],
   "source": [
    "resume = \"\"\"Rupesh Ghimire\n",
    "rupeshghimire007@gmail.com | +977-9868155925\n",
    "\n",
    "EDUCATION\n",
    "Pashchimanchal Campus, IOE, TU\n",
    "Bachelor in Computer Engineering\n",
    "2019-Present\n",
    "Fusemachines\n",
    "Micro-Degree in Artificial Intelligence\n",
    "2023-Present\n",
    "Fellowship Scholar\n",
    "LINKS\n",
    "Github:// rupeshghimire7\n",
    "LinkedIn:// rupesh-ghimire7\n",
    "Medium:// rupeshghimire7\n",
    "LeetCode:// rupeshghimire7\n",
    "INVOLVEMENTS\n",
    "NAAMI | ANAIS-Student Ambassador\n",
    "Apr 2023 - Jun 2023\n",
    "i-CES | Django Mentor\n",
    "Jan 2023 - Feb 2023 | Pokhara\n",
    "Made attendees familiar with Python and Django's MVC\n",
    "architecture, ORM, Templates and Rest Framework.\n",
    "Coding Competition (GCES) - 2023\n",
    "Code with Coffee (i-CES) - 2022\n",
    "PROJECTS\n",
    "LIVER CIRRHOSIS PREDICTION\n",
    "Fusemachines ML Final Project | (Feb 2023- Apr 2023)\n",
    "Worked on the multiclass classification problem with\n",
    "various classifiers to predict the stage of patients' liver.\n",
    "Deployed on Flask.\n",
    "BCT Study Room\n",
    "Software Engineering Project | (May 2022- Jul 2022)\n",
    "A django web-app to enable discussion in groups.\n",
    "BookSuggestor\n",
    "COURSEWORKSDBMS Project\n",
    "Leveraged RAW SQL for database management using\n",
    "MySQL in Django bypassing Django's ORM.\n",
    "UNDERGRADUATETelegram Chat Bot\n",
    "Data Structures & Algorithms\n",
    "Operating Systems\n",
    "Database Management System\n",
    "Software Engineering\n",
    "Artificial Intelligence\n",
    "Computer NetworksPersonal Project\n",
    "Used Telegram API for configuration and python for\n",
    "implementation.\n",
    "Machine Learning AlgorithmsACHIEVEMENTS\n",
    "FUSEMACHINES\n",
    "PROGRAMMING SKILLS\n",
    "EXPERIENCED\n",
    "Python | Django\n",
    "Tailwind CSS | HTML5 | CSS3\n",
    "INTERMEDIATE\n",
    "Pytorch\n",
    "MySQL\n",
    "Pandas | Numpy\n",
    "Matplotlib | Seaborn | Scikit-Learn\n",
    "RESTful API\n",
    "C/C++\n",
    "FAMILIAR\n",
    "Tensorflow/ Keras\n",
    "JavaScript | ReactJS\n",
    "ML Projects\n",
    "Personal Project\n",
    "Collection of Regression and Classification projects.\n",
    "HultPrize 2021\n",
    "To build viable food enterprises to create jobs, stimulate\n",
    "economies, reimagine supply chains, and improve outcomes for\n",
    "10,000,000 people by 2030.\n",
    "OnCampus: 1st Runner Up\n",
    "Regional Summit: Participant via Wildcard\n",
    "Golden Jubilee Scholarship Scheme\n",
    "Awarded from Embassy of India, Kathmandu for\n",
    "Undergrad Studies.\n",
    "LANGUAGES\n",
    "Nepali - Native Proficiency\n",
    "English - Professional Working Proficiency\"\"\""
   ]
  },
  {
   "cell_type": "code",
   "execution_count": 10,
   "id": "7aca6ee1",
   "metadata": {},
   "outputs": [],
   "source": [
    "resume = resume.replace('\\n', ' ').replace('|', '')"
   ]
  },
  {
   "cell_type": "markdown",
   "id": "a9ea44a9",
   "metadata": {},
   "source": [
    "### TRAINER FUNCTION\n",
    "\n",
    "Takes list train data of form:\n",
    "        \n",
    "        [(\"Pizza is a common fast food.\", {\"entities\": [(0, 5, \"FOOD\")]}),\n",
    "        (\"Pasta is an italian recipe\", {\"entities\": [(0, 5, \"FOOD\")]})]\n",
    "        \n",
    "Resume Doc is spacy doc object of resume:"
   ]
  },
  {
   "cell_type": "code",
   "execution_count": 11,
   "id": "d33606f9",
   "metadata": {},
   "outputs": [],
   "source": [
    "def trainer(DATA):\n",
    "    \n",
    "    # TRAINING THE MODEL\n",
    "    with nlp.disable_pipes(*unaffected_pipes):\n",
    "\n",
    "        # Training for n iterations\n",
    "        for iteration in range(10):\n",
    "\n",
    "            # Shuffling examples before every iteration\n",
    "            random.shuffle(DATA)\n",
    "            losses = {}\n",
    "\n",
    "            # Batch up the examples using spaCy's minibatch\n",
    "            batches = minibatch(DATA, size=compounding(4.0, 32.0, 1.001))\n",
    "\n",
    "            for batch in batches:\n",
    "                examples = []\n",
    "                for text, annotation in batch:\n",
    "                    example = Example.from_dict(nlp.make_doc(text), annotation)\n",
    "                    examples.append(example)\n",
    "\n",
    "                nlp.update(\n",
    "                    examples,  \n",
    "                    sgd=optimizer,\n",
    "                    drop=0.5,  \n",
    "                    losses=losses,\n",
    "                )\n",
    "\n",
    "            print(\"Losses\", losses)"
   ]
  },
  {
   "cell_type": "markdown",
   "id": "5bf35bc2",
   "metadata": {},
   "source": [
    "### Data Generator function\n",
    "\n",
    "Label -> \"SKILLS\"\n",
    "\n",
    "List of data -> ['React', 'Django', 'Machine Learning', 'AI']  "
   ]
  },
  {
   "cell_type": "code",
   "execution_count": 12,
   "id": "3e560107",
   "metadata": {},
   "outputs": [],
   "source": [
    "def data_generator(label,data_list,level=None):\n",
    "    training_data = []\n",
    "\n",
    "    for i in range(len(data_list)):\n",
    "        data = data_list[i]\n",
    "        start_index = 0\n",
    "        end_index = start_index + len(data)\n",
    "        training_data.append((data, {\"entities\": [(start_index, end_index, label)]}))\n",
    "\n",
    "    return training_data"
   ]
  },
  {
   "cell_type": "markdown",
   "id": "ecbff8e4",
   "metadata": {},
   "source": [
    "### View Results"
   ]
  },
  {
   "cell_type": "code",
   "execution_count": 13,
   "id": "b3ab50e2",
   "metadata": {},
   "outputs": [],
   "source": [
    "def view_results(doc):\n",
    "    for ent in doc.ents:\n",
    "        print(f\"{ent.label_}: {ent.text}\")"
   ]
  },
  {
   "cell_type": "markdown",
   "id": "c51bf909",
   "metadata": {},
   "source": [
    "### Creating data for tecnhical skills i.e. Entity Label : SKILLS"
   ]
  },
  {
   "cell_type": "code",
   "execution_count": 14,
   "id": "49b0109a",
   "metadata": {},
   "outputs": [],
   "source": [
    "technical_skills = [\n",
    "    # Programming Languages\n",
    "    \"Python\", \"Java\", \"C++\", \"JavaScript\", \"HTML\", \"CSS\", \"Ruby\", \"Go\", \"Swift\", \"Kotlin\",\n",
    "    \"TypeScript\", \"Rust\", \"Scala\", \"PHP\", \"C#\", \"Objective-C\",\n",
    "\n",
    "    # Web Development\n",
    "    \"Django\", \"Flask\", \"Node.js\", \"Express.js\", \"React\", \"Angular\", \"Vue.js\", \"Next.js\",\n",
    "    \"Spring Boot\", \"Ruby on Rails\", \"ASP.NET\", \"Meteor\", \"HTML5\", \"CSS3\", \"Bootstrap\",\n",
    "\n",
    "    # Databases\n",
    "    \"SQL\", \"MySQL\", \"PostgreSQL\", \"MongoDB\", \"Redis\", \"SQLite\", \"Firebase\", \"Cassandra\",\n",
    "\n",
    "    # Machine Learning / Data Science\n",
    "    \"TensorFlow\", \"PyTorch\", \"Scikit-learn\", \"Keras\", \"Pandas\", \"NumPy\", \"Matplotlib\",\n",
    "    \"Seaborn\", \"NLTK\", \"Spacy\", \"Scrapy\", \"Beautiful Soup\",\n",
    "\n",
    "    # Cloud Computing\n",
    "    \"AWS\", \"Azure\", \"Google Cloud Platform (GCP)\", \"Docker\", \"Kubernetes\", \"Heroku\",\n",
    "\n",
    "    # DevOps\n",
    "    \"Jenkins\", \"Travis CI\", \"GitLab CI\", \"Ansible\", \"Terraform\", \"Docker Compose\",\n",
    "\n",
    "    # Version Control\n",
    "    \"Git\", \"GitHub\", \"Bitbucket\", \"GitLab\",\n",
    "\n",
    "    # Mobile Development\n",
    "    \"React Native\", \"Flutter\", \"Xamarin\", \"SwiftUI\", \"Android SDK\",\n",
    "\n",
    "    # Frameworks\n",
    "    \"React\", \"Angular\", \"Vue.js\", \"Django\", \"Flask\", \"Ruby on Rails\", \"Spring Boot\", \"Express.js\",\n",
    "\n",
    "    # Libraries\n",
    "    \"Pandas\", \"NumPy\", \"Matplotlib\", \"Seaborn\", \"NLTK\", \"Spacy\", \"Scrapy\", \"Beautiful Soup\",\n",
    "\n",
    "    # Frontend Technologies\n",
    "    \"React\", \"Angular\", \"Vue.js\", \"Next.js\", \"TypeScript\", \"Webpack\", \"Babel\", \"SASS\",\n",
    "\n",
    "    # Backend Technologies\n",
    "    \"Node.js\", \"Django\", \"Flask\", \"Spring Boot\", \"Ruby on Rails\", \"Express.js\", \"PHP\",\n",
    "\n",
    "    # Mobile Frameworks\n",
    "    \"React Native\", \"Flutter\", \"Xamarin\", \"SwiftUI\", \"Android SDK\",\n",
    "\n",
    "    # Networking\n",
    "    \"TCP/IP\", \"HTTP/HTTPS\", \"DNS\", \"Load Balancing\", \"Firewalls\", \"Proxy Servers\",\n",
    "\n",
    "    # Security\n",
    "    \"Cybersecurity\", \"Penetration Testing\", \"Cryptography\", \"OWASP\", \"SSL/TLS\",\n",
    "\n",
    "    # Operating Systems\n",
    "    \"Linux\", \"Windows\", \"macOS\", \"Unix\",\n",
    "\n",
    "    # Other Technologies\n",
    "    \"Blockchain\", \"Serverless\", \"Microservices\", \"RESTful API\", \"GraphQL\",\n",
    "\n",
    "    # Project Management / Agile\n",
    "    \"Scrum\", \"Kanban\", \"Agile\", \"JIRA\", \"Trello\",\n",
    "\n",
    "    # Miscellaneous\n",
    "    \"Data Manipulation\", \"Natural Language Processing (NLP)\", \"Computer Vision\",\n",
    "]\n",
    "level = ['beginner', 'intermediate', 'expert']"
   ]
  },
  {
   "cell_type": "code",
   "execution_count": 15,
   "id": "1a5bbe3d",
   "metadata": {
    "scrolled": false
   },
   "outputs": [
    {
     "name": "stdout",
     "output_type": "stream",
     "text": [
      "('Python', {'entities': [(0, 6, 'SKILLS')]})\n",
      "('Java', {'entities': [(0, 4, 'SKILLS')]})\n",
      "('C++', {'entities': [(0, 3, 'SKILLS')]})\n",
      "('JavaScript', {'entities': [(0, 10, 'SKILLS')]})\n",
      "('HTML', {'entities': [(0, 4, 'SKILLS')]})\n",
      "('JIRA', {'entities': [(0, 4, 'SKILLS')]})\n",
      "('Trello', {'entities': [(0, 6, 'SKILLS')]})\n",
      "('Data Manipulation', {'entities': [(0, 17, 'SKILLS')]})\n",
      "('Natural Language Processing (NLP)', {'entities': [(0, 33, 'SKILLS')]})\n",
      "('Computer Vision', {'entities': [(0, 15, 'SKILLS')]})\n",
      "TRAIN_DATA length 136\n"
     ]
    }
   ],
   "source": [
    "TRAIN_DATA = data_generator(\"SKILLS\",technical_skills, level)\n",
    "\n",
    "for data in TRAIN_DATA[:5]:\n",
    "    print(data)\n",
    "for data in TRAIN_DATA[-5:]:\n",
    "    print(data)\n",
    "print(\"TRAIN_DATA length\", len(TRAIN_DATA))"
   ]
  },
  {
   "cell_type": "code",
   "execution_count": 16,
   "id": "3c11e577",
   "metadata": {},
   "outputs": [
    {
     "name": "stdout",
     "output_type": "stream",
     "text": [
      "PERSON: Rupesh Ghimire rupeshghimire007@gmail.com\n",
      "PERSON: Pashchimanchal Campus\n",
      "ORG: IOE\n",
      "PERSON: TU Bachelor\n",
      "DATE: 2019\n",
      "PERSON: rupeshghimire7\n",
      "ORG: rupeshghimire7 INVOLVEMENTS NAAMI  ANAIS-Student\n",
      "DATE: 2023 - Jun 2023\n",
      "DATE: Jan 2023 - Feb 2023\n",
      "PERSON: Django\n",
      "ORG: MVC\n",
      "PERSON: Templates\n",
      "FAC: Rest Framework\n",
      "GPE: Flask\n",
      "DATE: May 2022- Jul 2022\n",
      "ORG: BookSuggestor COURSEWORKSDBMS Project Leveraged RAW SQL\n",
      "GPE: Django\n",
      "PERSON: Django\n",
      "ORG: UNDERGRADUATETelegram Chat Bot Data Structures & Algorithms Operating Systems Database Management System Software Engineering Artificial Intelligence Computer NetworksPersonal Project\n",
      "PERSON: Machine Learning\n",
      "PERSON: Numpy Matplotlib\n",
      "PERSON: Seaborn  Scikit-Learn\n",
      "PERSON: Keras JavaScript  ReactJS\n",
      "ORG: ML Projects Personal Project Collection of Regression and Classification\n",
      "CARDINAL: 10,000,000\n",
      "DATE: 2030\n",
      "PERSON: OnCampus\n",
      "CARDINAL: 1st\n",
      "PERSON: Participant\n",
      "PERSON: Wildcard Golden Jubilee Scholarship Scheme Awarded\n",
      "GPE: Embassy\n",
      "GPE: India\n",
      "GPE: Kathmandu\n",
      "PERSON: LANGUAGES Nepali - Native Proficiency\n"
     ]
    }
   ],
   "source": [
    "view_results(nlp(resume))"
   ]
  },
  {
   "cell_type": "code",
   "execution_count": 17,
   "id": "131d872e",
   "metadata": {
    "scrolled": false
   },
   "outputs": [
    {
     "name": "stdout",
     "output_type": "stream",
     "text": [
      "Losses {'ner': 207.89096086251678}\n",
      "Losses {'ner': 100.04769532120554}\n",
      "Losses {'ner': 72.37185845894317}\n",
      "Losses {'ner': 66.0976101893466}\n",
      "Losses {'ner': 42.52660317358459}\n",
      "Losses {'ner': 28.068101785829885}\n",
      "Losses {'ner': 15.049703359775833}\n",
      "Losses {'ner': 12.398957576528375}\n",
      "Losses {'ner': 7.972060559081265}\n",
      "Losses {'ner': 10.40278832094074}\n"
     ]
    }
   ],
   "source": [
    "trainer(DATA= TRAIN_DATA)"
   ]
  },
  {
   "cell_type": "code",
   "execution_count": 18,
   "id": "55203471",
   "metadata": {},
   "outputs": [
    {
     "name": "stdout",
     "output_type": "stream",
     "text": [
      "SKILLS: Rupesh Ghimire rupeshghimire007@gmail.com\n",
      "SKILLS: +977-9868155925  \n",
      "SKILLS: EDUCATION Pashchimanchal Campus\n",
      "SKILLS: TU Bachelor\n",
      "SKILLS: in Computer Engineering 2019-Present Fusemachines Micro-Degree\n",
      "SKILLS: Artificial Intelligence 2023-Present Fellowship Scholar\n",
      "SKILLS: rupeshghimire7\n",
      "SKILLS: rupesh-ghimire7 Medium:// rupeshghimire7\n",
      "SKILLS: LeetCode:// rupeshghimire7 INVOLVEMENTS NAAMI  ANAIS-Student Ambassador Apr 2023 - Jun 2023\n",
      "SKILLS: i-CES\n",
      "SKILLS: Django Mentor\n",
      "SKILLS: 2023 - Feb 2023\n",
      "SKILLS: Pokhara Made\n",
      "SKILLS: familiar\n",
      "SKILLS: with\n",
      "SKILLS: Python and Django's MVC\n",
      "SKILLS: ,\n",
      "SKILLS: ORM, Templates\n",
      "SKILLS: Rest Framework\n",
      "SKILLS: Coding Competition\n",
      "SKILLS: 2023 Code with Coffee\n",
      "SKILLS: i-CES) - 2022 PROJECTS LIVER CIRRHOSIS PREDICTION Fusemachines ML Final Project  (Feb 2023- Apr 2023) Worked\n",
      "SKILLS: classifiers\n",
      "SKILLS: .\n",
      "SKILLS: Deployed on Flask\n",
      "SKILLS: BCT Study Room Software Engineering Project\n",
      "SKILLS: 2022- Jul 2022\n",
      "SKILLS: web-app\n",
      "SKILLS: .\n",
      "SKILLS: BookSuggestor COURSEWORKSDBMS Project Leveraged RAW SQL\n",
      "SKILLS: using MySQL in Django bypassing Django's ORM\n",
      "SKILLS: UNDERGRADUATETelegram Chat Bot Data Structures & Algorithms Operating Systems Database Management System Software Engineering Artificial Intelligence Computer NetworksPersonal Project Used Telegram API\n",
      "SKILLS: python for implementation\n",
      "SKILLS: Machine Learning AlgorithmsACHIEVEMENTS FUSEMACHINES PROGRAMMING SKILLS EXPERIENCED Python  Django Tailwind CSS  HTML5\n",
      "SKILLS: CSS3 INTERMEDIATE Pytorch MySQL Pandas\n",
      "SKILLS: Numpy Matplotlib\n",
      "SKILLS: Seaborn  Scikit-Learn RESTful API C/C++\n",
      "SKILLS: FAMILIAR Tensorflow/ Keras JavaScript\n",
      "SKILLS: ReactJS ML Projects Personal Project Collection of Regression and Classification\n",
      "SKILLS: HultPrize 2021 To\n",
      "SKILLS: jobs\n",
      "SKILLS: economies\n",
      "SKILLS: ,\n",
      "SKILLS: improve\n",
      "SKILLS: by\n",
      "SKILLS: 2030\n",
      "SKILLS: OnCampus\n",
      "SKILLS: :\n",
      "SKILLS: 1st Runner\n",
      "SKILLS: Up Regional Summit\n",
      "SKILLS: Participant\n",
      "SKILLS: Wildcard Golden Jubilee Scholarship Scheme Awarded\n",
      "SKILLS: Embassy of India\n",
      "SKILLS: Kathmandu for Undergrad Studies\n",
      "SKILLS: LANGUAGES Nepali - Native Proficiency English - Professional Working Proficiency\n"
     ]
    }
   ],
   "source": [
    "view_results(nlp(resume))"
   ]
  },
  {
   "cell_type": "markdown",
   "id": "3daff656",
   "metadata": {},
   "source": [
    "**It seems like it is showing everything as skill. We will still train our model further on more data and labels and see how it performs. If the final result obtained isn't good, we will train our data directly on resume data instead of separate data**"
   ]
  },
  {
   "cell_type": "markdown",
   "id": "2f5375c7",
   "metadata": {},
   "source": [
    "### Train Tenure (for eg: Jan 2023 - Jan 2024)"
   ]
  },
  {
   "cell_type": "code",
   "execution_count": 19,
   "id": "6fd1610b",
   "metadata": {},
   "outputs": [],
   "source": [
    "date_phrases = [\n",
    "    \"January 2020 - Present\",\n",
    "    \"2018 - 2022\",\n",
    "    \"Dec 2015 - Mar 2018\",\n",
    "    \"July 2021 - August 2023\",\n",
    "    \"September 2019 - Nov 2020\",\n",
    "    \"2020 - Present\",\n",
    "     \"Oct 2018 - Apr 2020\",\n",
    "    \"May 2016 - September 2019\",\n",
    "    \"June 2019 - Dec 2021\",\n",
    "    \"2005 - 2010\",\n",
    "    \"Mar 2017 - Present\",\n",
    "    \"July 2022\",\n",
    "    \"Jan 2014 - Jun 2015\",\n",
    "    \"August 2020 - Current\",\n",
    "    \"Fall 2018 - Spring 2022\",\n",
    "    \"Q3 2019 - Q1 2021\",\n",
    "    \"Dec '19 - Feb '22\",\n",
    "    \"3/2015 - 5/2018\",\n",
    "    \"Apr 2008\",\n",
    "    \"Summer 2016\"\n",
    "]"
   ]
  },
  {
   "cell_type": "code",
   "execution_count": 20,
   "id": "0c6c00d0",
   "metadata": {},
   "outputs": [
    {
     "name": "stdout",
     "output_type": "stream",
     "text": [
      "('Computer Vision', {'entities': [(0, 15, 'SKILLS')]})\n",
      "('Android SDK', {'entities': [(0, 11, 'SKILLS')]})\n",
      "('Android SDK', {'entities': [(0, 11, 'SKILLS')]})\n",
      "('Unix', {'entities': [(0, 4, 'SKILLS')]})\n",
      "('NumPy', {'entities': [(0, 5, 'SKILLS')]})\n",
      "('macOS', {'entities': [(0, 5, 'SKILLS')]})\n",
      "('CSS', {'entities': [(0, 3, 'SKILLS')]})\n",
      "('Docker', {'entities': [(0, 6, 'SKILLS')]})\n",
      "('Azure', {'entities': [(0, 5, 'SKILLS')]})\n",
      "('Kubernetes', {'entities': [(0, 10, 'SKILLS')]})\n",
      "TRAIN_DATA length 136\n"
     ]
    }
   ],
   "source": [
    "TENURE_DATA = data_generator(\"TENURE\",date_phrases, level)\n",
    "\n",
    "for data in TENURE_DATA[:5]:\n",
    "    print(data)\n",
    "for data in TENURE_DATA[-5:]:\n",
    "    print(data)\n",
    "print(\"TENURE_DATA length\", len(TENURE_DATA))"
   ]
  },
  {
   "cell_type": "code",
   "execution_count": 21,
   "id": "b88e0095",
   "metadata": {
    "scrolled": false
   },
   "outputs": [
    {
     "name": "stdout",
     "output_type": "stream",
     "text": [
      "Losses {'ner': 69.92621201228422}\n",
      "Losses {'ner': 59.01772405664411}\n",
      "Losses {'ner': 51.14020713698119}\n",
      "Losses {'ner': 59.6613085282479}\n",
      "Losses {'ner': 69.73185156157706}\n",
      "Losses {'ner': 47.085694319714094}\n",
      "Losses {'ner': 23.607129734009504}\n",
      "Losses {'ner': 19.894113314076094}\n",
      "Losses {'ner': 15.208815962891094}\n",
      "Losses {'ner': 10.083870277058534}\n"
     ]
    }
   ],
   "source": [
    "trainer(TENURE_DATA)"
   ]
  },
  {
   "cell_type": "code",
   "execution_count": 22,
   "id": "738a49fd",
   "metadata": {},
   "outputs": [
    {
     "name": "stdout",
     "output_type": "stream",
     "text": [
      "TENURE: Rupesh Ghimire rupeshghimire007@gmail.com  \n",
      "TENURE: Pashchimanchal Campus, IOE, TU Bachelor in Computer Engineering 2019-Present Fusemachines Micro-Degree in Artificial Intelligence 2023-Present Fellowship Scholar LINKS Github:// rupeshghimire7\n",
      "TENURE: rupesh-ghimire7 Medium:// rupeshghimire7 LeetCode:// rupeshghimire7 INVOLVEMENTS NAAMI  ANAIS-Student Ambassador Apr 2023 - Jun 2023 i-CES  Django Mentor Jan 2023 - Feb 2023  \n",
      "TENURE: Pokhara Made\n",
      "TENURE: Python and Django's MVC\n",
      "TENURE: ORM, Templates and Rest Framework.\n",
      "TENURE: Coding Competition (GCES) - 2023 Code with Coffee (i-CES) - 2022 PROJECTS LIVER CIRRHOSIS PREDICTION Fusemachines ML Final Project  (Feb 2023- Apr 2023) Worked on the multiclass classification problem\n",
      "TENURE: Deployed on Flask\n",
      "TENURE: BCT Study Room Software Engineering Project  (May 2022- Jul 2022)\n",
      "TENURE: BookSuggestor COURSEWORKSDBMS Project Leveraged RAW SQL for database management using MySQL in Django bypassing Django's ORM\n",
      "TENURE: UNDERGRADUATETelegram Chat Bot Data Structures & Algorithms Operating Systems Database Management System Software Engineering Artificial Intelligence Computer NetworksPersonal Project Used Telegram API for configuration and python for implementation\n",
      "TENURE: Machine Learning AlgorithmsACHIEVEMENTS FUSEMACHINES PROGRAMMING SKILLS EXPERIENCED Python  Django Tailwind CSS  HTML5  \n",
      "TENURE: CSS3 INTERMEDIATE Pytorch MySQL Pandas  Numpy Matplotlib  Seaborn  Scikit-Learn RESTful API C/C++\n",
      "TENURE: Keras JavaScript  ReactJS ML Projects Personal Project Collection of Regression and Classification projects.\n",
      "TENURE: HultPrize 2021 To\n",
      "TENURE: OnCampus:\n",
      "TENURE: 1st Runner Up Regional Summit: Participant via Wildcard Golden Jubilee Scholarship Scheme Awarded from Embassy of India\n",
      "TENURE: Kathmandu for Undergrad Studies\n",
      "TENURE: LANGUAGES Nepali - Native Proficiency English - Professional Working Proficiency\n"
     ]
    }
   ],
   "source": [
    "view_results(nlp(resume))"
   ]
  },
  {
   "cell_type": "code",
   "execution_count": null,
   "id": "86ca3c3f",
   "metadata": {},
   "outputs": [],
   "source": []
  },
  {
   "cell_type": "code",
   "execution_count": null,
   "id": "ebcb919f",
   "metadata": {},
   "outputs": [],
   "source": []
  },
  {
   "cell_type": "code",
   "execution_count": null,
   "id": "1006a9b7",
   "metadata": {},
   "outputs": [],
   "source": []
  },
  {
   "cell_type": "code",
   "execution_count": null,
   "id": "0cfc288f",
   "metadata": {},
   "outputs": [],
   "source": []
  },
  {
   "cell_type": "code",
   "execution_count": null,
   "id": "608998a7",
   "metadata": {},
   "outputs": [],
   "source": []
  },
  {
   "cell_type": "code",
   "execution_count": null,
   "id": "651da579",
   "metadata": {},
   "outputs": [],
   "source": []
  }
 ],
 "metadata": {
  "kernelspec": {
   "display_name": "Python 3 (ipykernel)",
   "language": "python",
   "name": "python3"
  },
  "language_info": {
   "codemirror_mode": {
    "name": "ipython",
    "version": 3
   },
   "file_extension": ".py",
   "mimetype": "text/x-python",
   "name": "python",
   "nbconvert_exporter": "python",
   "pygments_lexer": "ipython3",
   "version": "3.10.6"
  }
 },
 "nbformat": 4,
 "nbformat_minor": 5
}
