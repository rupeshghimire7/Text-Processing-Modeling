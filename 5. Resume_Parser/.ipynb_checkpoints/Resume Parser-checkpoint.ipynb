{
 "cells": [
  {
   "cell_type": "markdown",
   "id": "75035c5e",
   "metadata": {},
   "source": [
    "# Learning Custom NER model in SpaCy to auto-detect named entities"
   ]
  },
  {
   "cell_type": "code",
   "execution_count": 1,
   "id": "f037b35a",
   "metadata": {},
   "outputs": [
    {
     "name": "stderr",
     "output_type": "stream",
     "text": [
      "2024-01-24 22:48:36.253664: I tensorflow/core/platform/cpu_feature_guard.cc:182] This TensorFlow binary is optimized to use available CPU instructions in performance-critical operations.\n",
      "To enable the following instructions: AVX2 FMA, in other operations, rebuild TensorFlow with the appropriate compiler flags.\n",
      "2024-01-24 22:48:37.680874: W tensorflow/compiler/tf2tensorrt/utils/py_utils.cc:38] TF-TRT Warning: Could not find TensorRT\n",
      "/usr/lib/python3/dist-packages/scipy/__init__.py:146: UserWarning: A NumPy version >=1.17.3 and <1.25.0 is required for this version of SciPy (detected version 1.26.3\n",
      "  warnings.warn(f\"A NumPy version >={np_minversion} and <{np_maxversion}\"\n",
      "2024-01-24 22:48:40.485662: I tensorflow/compiler/xla/stream_executor/cuda/cuda_gpu_executor.cc:996] successful NUMA node read from SysFS had negative value (-1), but there must be at least one NUMA node, so returning NUMA node zero. See more at https://github.com/torvalds/linux/blob/v6.0/Documentation/ABI/testing/sysfs-bus-pci#L344-L355\n",
      "2024-01-24 22:48:40.486442: W tensorflow/core/common_runtime/gpu/gpu_device.cc:1956] Cannot dlopen some GPU libraries. Please make sure the missing libraries mentioned above are installed properly if you would like to use GPU. Follow the guide at https://www.tensorflow.org/install/gpu for how to download and setup the required libraries for your platform.\n",
      "Skipping registering GPU devices...\n"
     ]
    }
   ],
   "source": [
    "import spacy\n",
    "\n",
    "nlp = spacy.load('en_core_web_sm')"
   ]
  },
  {
   "cell_type": "code",
   "execution_count": 2,
   "id": "d4fe48f2",
   "metadata": {},
   "outputs": [
    {
     "data": {
      "text/plain": [
       "['tok2vec', 'tagger', 'parser', 'attribute_ruler', 'lemmatizer', 'ner']"
      ]
     },
     "execution_count": 2,
     "metadata": {},
     "output_type": "execute_result"
    }
   ],
   "source": [
    "nlp.pipe_names"
   ]
  },
  {
   "cell_type": "code",
   "execution_count": 3,
   "id": "20c28538",
   "metadata": {},
   "outputs": [
    {
     "name": "stdout",
     "output_type": "stream",
     "text": [
      "India GPE\n",
      "one CARDINAL\n",
      "Indian NORP\n",
      "USD 84 billion MONEY\n",
      "2021 DATE\n",
      "USD 24 billion MONEY\n",
      "2017 DATE\n",
      "India GPE\n",
      "Philip PERSON\n",
      "12% PERCENT\n",
      "2017 DATE\n",
      "22-25% PERCENT\n",
      "2021 DATE\n",
      "India GPE\n",
      "Amazon ORG\n",
      "One CARDINAL\n",
      "Amazon ORG\n",
      "Amazon ORG\n",
      "Amazon Music Limited ORG\n",
      "2007 DATE\n",
      "Flipkart ORG\n",
      "Indian NORP\n",
      "Amazon ORG\n",
      "Walmart ORG\n",
      "one CARDINAL\n",
      "US GPE\n",
      "Amazon ORG\n",
      "2010 DATE\n",
      "2011 DATE\n",
      "more than 3 CARDINAL\n",
      "India GPE\n",
      "over 30 million CARDINAL\n",
      "800 CARDINAL\n",
      "over 125,000 CARDINAL\n",
      "Indian NORP\n",
      "recent years DATE\n",
      "Freecharge PERSON\n",
      "Unicommerce GPE\n",
      "ShopClues PRODUCT\n",
      "Indian NORP\n",
      "ShopClues PRODUCT\n",
      "July 2011 DATE\n",
      "Gurugram ORG\n",
      "1.1 billion CARDINAL\n",
      "Nexus Venture Partners ORG\n",
      "Tiger Global PERSON\n",
      "Helion Ventures ORG\n",
      "more than 5 CARDINAL\n",
      "nine CARDINAL\n",
      "Paytm Mall PERSON\n",
      "Paytm PERSON\n",
      "Paytm Mall PERSON\n",
      "third ORDINAL\n",
      "Reliance Retail PERSON\n",
      "Reliance Jio PERSON\n",
      "Indian NORP\n",
      "Reliance ORG\n",
      "Reliance ORG\n",
      "India GPE\n",
      "two CARDINAL\n",
      "One CARDINAL\n",
      "Grofers ORG\n",
      "2013 DATE\n",
      "the last 5 years DATE\n",
      "daily DATE\n",
      "India GPE\n",
      "Indian NORP\n",
      "Digital Mall of Asia – Going live FAC\n",
      "2020 DATE\n",
      "Digital Mall of Asia FAC\n",
      "Yokeasia GPE\n",
      "zero CARDINAL\n",
      "monthly DATE\n",
      "one CARDINAL\n",
      "DMA ORG\n"
     ]
    }
   ],
   "source": [
    "article_text=\"\"\"India that previously comprised only a handful of players in the e-commerce space, is now home to many biggies and giants battling out with each other to reach the top. This is thanks to the overwhelming internet and smartphone penetration coupled with the ever-increasing digital adoption across the country. These new-age innovations not only gave emerging startups a unique platform to deliver seamless shopping experiences but also provided brick and mortar stores with a level-playing field to begin their online journeys without leaving their offline legacies.\n",
    "In the wake of so many players coming together on one platform, the Indian e-commerce market is envisioned to reach USD 84 billion in 2021 from USD 24 billion in 2017. Further, with the rate at which internet penetration is increasing, we can expect more and more international retailers coming to India in addition to a large pool of new startups. This, in turn, will provide a major Philip to the organized retail market and boost its share from 12% in 2017 to 22-25% by 2021. \n",
    "Here’s a view to the e-commerce giants that are dominating India’s online shopping space:\n",
    "Amazon – One of the uncontested global leaders, Amazon started its journey as a simple online bookstore that gradually expanded its reach to provide a large suite of diversified products including media, furniture, food, and electronics, among others. And now with the launch of Amazon Prime and Amazon Music Limited, it has taken customer experience to a godly level, which will remain undefeatable for a very long time. \n",
    "\n",
    "Flipkart – Founded in 2007, Flipkart is recognized as the national leader in the Indian e-commerce market. Just like Amazon, it started operating by selling books and then entered other categories such as electronics, fashion, and lifestyle, mobile phones, etc. And now that it has been acquired by Walmart, one of the largest leading platforms of e-commerce in the US, it has also raised its bar of customer offerings in all aspects and giving huge competition to Amazon. \n",
    "\n",
    "Snapdeal – Started as a daily deals platform in 2010, Snapdeal became a full-fledged online marketplace in 2011 comprising more than 3 lac sellers across India. The platform offers over 30 million products across 800+ diverse categories from over 125,000 regional, national, and international brands and retailers. The Indian e-commerce firm follows a robust strategy to stay at the forefront of innovation and deliver seamless customer offerings to its wide customer base. It has shown great potential for recovery in recent years despite losing Freecharge and Unicommerce. \n",
    "\n",
    "ShopClues – Another renowned name in the Indian e-commerce industry, ShopClues was founded in July 2011. It’s a Gurugram based company having a current valuation of INR 1.1 billion and is backed by prominent names including Nexus Venture Partners, Tiger Global, and Helion Ventures as its major investors. Presently, the platform comprises more than 5 lac sellers selling products in nine different categories such as computers, cameras, mobiles, etc. \n",
    "\n",
    "Paytm Mall – To compete with the existing e-commerce giants, Paytm, an online payment system has also launched its online marketplace – Paytm Mall, which offers a wide array of products ranging from men and women fashion to groceries and cosmetics, electronics and home products, and many more. The unique thing about this platform is that it serves as a medium for third parties to sell their products directly through the widely-known app – Paytm. \n",
    "\n",
    "Reliance Retail – Given Reliance Jio’s disruptive venture in the Indian telecom space along with a solid market presence of Reliance, it is no wonder that Reliance will soon be foraying into retail space. As of now, it has plans to build an e-commerce space that will be established on online-to-offline market program and aim to bring local merchants on board to help them boost their sales and compete with the existing industry leaders. \n",
    "Big Basket – India’s biggest online supermarket, Big Basket provides a wide variety of imported and gourmet products through two types of delivery services – express delivery and slotted delivery. It also offers pre-cut fruits along with a long list of beverages including fresh juices, cold drinks, hot teas, etc. Moreover, it not only provides farm-fresh products but also ensures that the farmer gets better prices. \n",
    "\n",
    "Grofers – One of the leading e-commerce players in the grocery segment, Grofers started its operations in 2013 and has reached overwhelming heights in the last 5 years. Its wide range of products includes atta, milk, oil, daily need products, vegetables, dairy products, juices, beverages, among others. With its growing reach across India, it has become one of the favorite supermarkets for Indian consumers who want to shop grocery items from the comforts of their homes. \n",
    "\n",
    "Digital Mall of Asia – Going live in 2020, Digital Mall of Asia is a very unique concept coined by the founders of Yokeasia Malls. It is designed to provide an immersive digital space equipped with multiple visual and sensory elements to sellers and shoppers. It will also give retailers exclusive rights to sell a particular product category or brand in their respective cities. What makes it unique is its zero-commission model enabling retailers to pay only a fixed amount of monthly rental instead of paying commissions. With its one-of-a-kind features, DMA is expected to bring\n",
    "never-seen transformation to the current e-commerce ecosystem while addressing all the existing e-commerce worries such as counterfeiting. \"\"\"\n",
    "\n",
    "doc=nlp(article_text)\n",
    "for ent in doc.ents:\n",
    "  print(ent.text,ent.label_)"
   ]
  },
  {
   "cell_type": "markdown",
   "id": "aad44cf7",
   "metadata": {},
   "source": [
    "Observe the above output. Notice that FLIPKART has been identified as PERSON, it should have been ORG . Walmart has also been categorized wrongly as LOC , in this context it should have been ORG . Same goes for Freecharge , ShopClues ,etc..\n"
   ]
  },
  {
   "cell_type": "markdown",
   "id": "16fdac78",
   "metadata": {},
   "source": [
    "### Training NER to correctly classify "
   ]
  },
  {
   "cell_type": "code",
   "execution_count": 4,
   "id": "0544e4ab",
   "metadata": {},
   "outputs": [],
   "source": [
    "ner = nlp.get_pipe('ner')"
   ]
  },
  {
   "cell_type": "markdown",
   "id": "f63ebd13",
   "metadata": {},
   "source": [
    "spaCy accepts training data as list of tuples.\n",
    "\n",
    "Each tuple should contain the text and a dictionary. The dictionary should hold the start and end indices of the named enity in the text, and the category or label of the named entity.\n",
    "\n",
    "For example, (\"Walmart is a leading e-commerce company\", {\"entities\": [(0, 7, \"ORG\")]})"
   ]
  },
  {
   "cell_type": "code",
   "execution_count": 11,
   "id": "9843d62d",
   "metadata": {},
   "outputs": [],
   "source": [
    "# training data\n",
    "TRAIN_DATA = [\n",
    "              (\"Walmart is a leading e-commerce company\", {\"entities\": [(0, 7, \"ORG\")]}),\n",
    "              (\"I reached Chennai yesterday.\", {\"entities\": [(10, 16, \"GPE\")]}),\n",
    "              (\"I recently ordered a book from Amazon\", {\"entities\": [(24,32, \"ORG\")]}),\n",
    "              (\"I was driving a BMW\", {\"entities\": [(16,19, \"PRODUCT\")]}),\n",
    "              (\"I ordered this from ShopClues\", {\"entities\": [(20,29, \"ORG\")]}),\n",
    "              (\"Fridge can be ordered in Amazon \", {\"entities\": [(0,6, \"PRODUCT\")}),\n",
    "              (\"I bought a new Washer\", {\"entities\": [(16,22, \"PRODUCT\")]}),\n",
    "              (\"I bought a old table\", {\"entities\": [(16,21, \"PRODUCT\")]}),\n",
    "              (\"I bought a fancy dress\", {\"entities\": [(18,23, \"PRODUCT\")]}),\n",
    "              (\"I rented a camera\", {\"entities\": [(12,18, \"PRODUCT\")]}),\n",
    "              (\"I rented a tent for our trip\", {\"entities\": [(12,16, \"PRODUCT\")]}),\n",
    "              (\"I rented a screwdriver from our neighbour\", {\"entities\": [(12,22, \"PRODUCT\")]}),\n",
    "              (\"I repaired my computer\", {\"entities\": [(15,23, \"PRODUCT\")]}),\n",
    "              (\"I got my clock fixed\", {\"entities\": [(16,21, \"PRODUCT\")]}),\n",
    "              (\"I got my truck fixed\", {\"entities\": [(16,21, \"PRODUCT\")]}),\n",
    "              (\"Flipkart started it's journey from zero\", {\"entities\": [(0,8, \"ORG\")]}),\n",
    "              (\"I recently ordered from Max\", {\"entities\": [(24,27, \"ORG\")]}),\n",
    "              (\"Flipkart is recognized as leader in market\",{\"entities\": [(0,8, \"ORG\")]}),\n",
    "              (\"I recently ordered from Swiggy\", {\"entities\": [(24,29, \"ORG\")]}),\n",
    "              (\"I am driving a Toyota.\", {\"entities\":[(16,21,\"PRODUCT\")]})\n",
    "              ]"
   ]
  },
  {
   "cell_type": "code",
   "execution_count": 12,
   "id": "eeba8c19",
   "metadata": {},
   "outputs": [],
   "source": [
    "# Adding labels to the `ner`\n",
    "\n",
    "for _, annotations in TRAIN_DATA:\n",
    "  for ent in annotations.get(\"entities\"):\n",
    "    ner.add_label(ent[2])"
   ]
  },
  {
   "cell_type": "code",
   "execution_count": 13,
   "id": "2d1b00f2",
   "metadata": {},
   "outputs": [],
   "source": [
    "# While training one pipeline, other pipelines shouldn't be affected\n",
    "\n",
    "# Disable pipeline components you dont need to change\n",
    "pipe_exceptions = [\"ner\", \"trf_wordpiecer\", \"trf_tok2vec\"]\n",
    "unaffected_pipes = [pipe for pipe in nlp.pipe_names if pipe not in pipe_exceptions]"
   ]
  },
  {
   "cell_type": "markdown",
   "id": "20e274db",
   "metadata": {},
   "source": [
    "(a) To train an ner model, the model has to be looped over the example for sufficient number of iterations. If you train it for like just 5 or 6 iterations, it may not be effective.\n",
    "\n",
    "(b) Before every iteration it’s a good practice to shuffle the examples randomly throughrandom.shuffle() function to ensure the model does not make generalizations based on the order of the examples.\n",
    "\n",
    "(c) The training data is usually passed in batches."
   ]
  },
  {
   "cell_type": "markdown",
   "id": "7ff1b1a7",
   "metadata": {},
   "source": [
    "You can call the minibatch() function of spaCy over the training data that will return you data in batches . The minibatch function takes size parameter to denote the batch size. You can make use of the utility function compounding to generate an infinite series of compounding values.\n",
    "\n",
    "compunding() function takes three inputs which are start ( the first integer value) ,stop (the maximum value that can be generated) and finally compound. This value stored in compund is the compounding factor for the series.If you are not clear, check out this link for understanding.\n",
    "\n",
    "For each iteration , the model or ner is updated through the nlp.update() command. Parameters of nlp.update() are :\n",
    "\n",
    "    docs: This expects a batch of texts as input. You can pass each batch to the zip method, which will return you batches of text and annotations. `\n",
    "\n",
    "    golds: You can pass the annotations we got through zip method here\n",
    "\n",
    "    drop: This represents the dropout rate.\n",
    "\n",
    "    losses: A dictionary to hold the losses against each pipeline component. Create an empty dictionary and pass it here.\n",
    "\n",
    "At each word, the update() it makes a prediction. It then consults the annotations to check if the prediction is right. If it isn’t , it adjusts the weights so that the correct action will score higher next time.\n",
    "\n",
    "Finally, all of the training is done within the context of the nlp model with disabled pipeline, to prevent the other components from being involved."
   ]
  },
  {
   "cell_type": "code",
   "execution_count": 14,
   "id": "642ea30f",
   "metadata": {},
   "outputs": [
    {
     "name": "stderr",
     "output_type": "stream",
     "text": [
      "/home/contra/.local/lib/python3.10/site-packages/spacy/training/iob_utils.py:149: UserWarning: [W030] Some entities could not be aligned in the text \"I am driving a Toyota.\" with entities \"[(16, 21, 'PRODUCT')]\". Use `spacy.training.offsets_to_biluo_tags(nlp.make_doc(text), entities)` to check the alignment. Misaligned entities ('-') will be ignored during training.\n",
      "  warnings.warn(\n"
     ]
    },
    {
     "name": "stdout",
     "output_type": "stream",
     "text": [
      "Losses {'ner': 0.30896010700908955}\n",
      "Losses {'ner': 0.00048210707950022515}\n",
      "Losses {'ner': 7.478620367561492e-05}\n",
      "Losses {'ner': 0.013571405066034345}\n",
      "Losses {'ner': 1.5709652688662865}\n",
      "Losses {'ner': 0.0003058545781970481}\n",
      "Losses {'ner': 0.0001872750576402565}\n",
      "Losses {'ner': 0.000466653975985984}\n",
      "Losses {'ner': 3.2354451267967406}\n",
      "Losses {'ner': 0.03875129304370192}\n",
      "Losses {'ner': 0.0034668444633979625}\n",
      "Losses {'ner': 9.888402542890378e-09}\n",
      "Losses {'ner': 0.0039136937229413814}\n",
      "Losses {'ner': 0.002878345896211323}\n",
      "Losses {'ner': 0.0034021329602933643}\n",
      "Losses {'ner': 2.8410477745581486e-05}\n",
      "Losses {'ner': 0.00022790611118117274}\n",
      "Losses {'ner': 0.0005348290638019523}\n",
      "Losses {'ner': 1.6559119842174287e-06}\n",
      "Losses {'ner': 1.9628484134501658e-07}\n",
      "Losses {'ner': 1.8980630434617023}\n",
      "Losses {'ner': 0.0007462871252156967}\n",
      "Losses {'ner': 0.0054081966194854}\n",
      "Losses {'ner': 4.2160763644241886e-05}\n",
      "Losses {'ner': 4.376196322674002e-05}\n",
      "Losses {'ner': 2.194167909082109e-07}\n",
      "Losses {'ner': 0.010400202374500529}\n",
      "Losses {'ner': 1.590465676024056e-08}\n",
      "Losses {'ner': 1.7460129932989072}\n",
      "Losses {'ner': 0.00011305491086477048}\n"
     ]
    }
   ],
   "source": [
    "import random\n",
    "from spacy.training.example import Example\n",
    "from spacy.util import minibatch, compounding\n",
    "from pathlib import Path\n",
    "\n",
    "# TRAINING THE MODEL\n",
    "with nlp.disable_pipes(*unaffected_pipes):\n",
    "\n",
    "    # Training for 30 iterations\n",
    "    for iteration in range(30):\n",
    "\n",
    "        # Shuffling examples before every iteration\n",
    "        random.shuffle(TRAIN_DATA)\n",
    "        losses = {}\n",
    "\n",
    "        # Batch up the examples using spaCy's minibatch\n",
    "        batches = minibatch(TRAIN_DATA, size=compounding(4.0, 32.0, 1.001))\n",
    "\n",
    "        for batch in batches:\n",
    "            examples = []\n",
    "            for text, annotation in batch:\n",
    "                example = Example.from_dict(nlp.make_doc(text), annotation)\n",
    "                examples.append(example)\n",
    "\n",
    "            nlp.update(\n",
    "                examples,  # batch of Example objects\n",
    "                drop=0.5,  # dropout - make it harder to memorize data\n",
    "                losses=losses,\n",
    "            )\n",
    "\n",
    "        print(\"Losses\", losses)"
   ]
  },
  {
   "cell_type": "code",
   "execution_count": 17,
   "id": "e033d2f3",
   "metadata": {},
   "outputs": [
    {
     "name": "stdout",
     "output_type": "stream",
     "text": [
      "\n",
      "Entities [('AUDI', 'PRODUCT')]\n"
     ]
    }
   ],
   "source": [
    "doc = nlp(\"I am driving a AUDI\")\n",
    "print()\n",
    "print(\"Entities\", [(ent.text, ent.label_) for ent in doc.ents])"
   ]
  },
  {
   "cell_type": "markdown",
   "id": "2776546b",
   "metadata": {},
   "source": [
    "You can observe that even though I didn’t directly train the model to recognize “AUDI” as a vehicle name, it has predicted based on the similarity of context.\n",
    "\n",
    "This is the awesome part of the NER model.\n",
    "\n",
    "The model does not just memorize the training examples. It should learn from them and be able to generalize it to new examples."
   ]
  },
  {
   "cell_type": "code",
   "execution_count": 23,
   "id": "445c55c1",
   "metadata": {},
   "outputs": [
    {
     "name": "stdout",
     "output_type": "stream",
     "text": [
      "Saved model to nlp\n",
      "Loading from nlp\n",
      "Entities [('Fridge', 'PRODUCT'), ('FlipKart', 'ORG')]\n"
     ]
    }
   ],
   "source": [
    "# Save the  model to directory\n",
    "output_dir = Path('nlp')\n",
    "nlp.to_disk(output_dir)\n",
    "print(\"Saved model to\", output_dir)\n",
    "\n",
    "# Load the saved model and predict\n",
    "print(\"Loading from\", output_dir)\n",
    "nlp_updated = spacy.load(output_dir)\n",
    "doc = nlp_updated(\"Fridge can be ordered in FlipKart\" )\n",
    "print(\"Entities\", [(ent.text, ent.label_) for ent in doc.ents])"
   ]
  },
  {
   "cell_type": "markdown",
   "id": "34968963",
   "metadata": {},
   "source": [
    "#### Training ner from blank spacy model"
   ]
  },
  {
   "cell_type": "markdown",
   "id": "9506ffca",
   "metadata": {},
   "source": [
    "As it is an empty model , it does not have any pipeline component by default. You have to add the ner to the pipeline through `add_pipe()` method.\n",
    "\n",
    "You’ll not have to disable other pipelines as in previous case\n",
    "\n",
    "You must provide a larger number of training examples comparitively in rhis case.\n",
    "\n",
    "Before you start training the new model set `nlp.begin_training()`."
   ]
  },
  {
   "cell_type": "code",
   "execution_count": 26,
   "id": "32782109",
   "metadata": {},
   "outputs": [
    {
     "data": {
      "text/plain": [
       "<thinc.optimizers.Optimizer at 0x7f72fa4cbd80>"
      ]
     },
     "execution_count": 26,
     "metadata": {},
     "output_type": "execute_result"
    }
   ],
   "source": [
    "nlp=spacy.blank(\"en\")\n",
    "\n",
    "ner = nlp.add_pipe('ner')\n",
    "\n",
    "nlp.begin_training()\n",
    "\n",
    "#After this, you can follow the same exact procedure as in the case for pre-existing model.\n",
    "#This is how you can train the named entity recognizer to identify and categorize correctly as per the context."
   ]
  },
  {
   "cell_type": "markdown",
   "id": "684a686e",
   "metadata": {},
   "source": [
    "#### Adding new entity type"
   ]
  },
  {
   "cell_type": "code",
   "execution_count": 27,
   "id": "5c9149ad",
   "metadata": {},
   "outputs": [],
   "source": [
    "nlp=spacy.load(\"en_core_web_sm\") \n",
    "\n",
    "# Getting the ner component\n",
    "ner=nlp.get_pipe('ner')"
   ]
  },
  {
   "cell_type": "code",
   "execution_count": 33,
   "id": "1b9d03d0",
   "metadata": {},
   "outputs": [],
   "source": [
    "# New label to add\n",
    "LABEL = \"FOOD\"\n",
    "\n",
    "# Training examples in the required format\n",
    "TRAIN_DATA =[ (\"Pizza is a common fast food.\", {\"entities\": [(0, 5, \"FOOD\")]}),\n",
    "              (\"Pasta is an italian recipe\", {\"entities\": [(0, 5, \"FOOD\")]}),\n",
    "              (\"China's noodles are very famous\", {\"entities\": [(8,14, \"FOOD\")]}),\n",
    "              (\"Shrimps are famous in China too\", {\"entities\": [(0,7, \"FOOD\")]}),\n",
    "              (\"Lasagna is another classic of Italy\", {\"entities\": [(0,7, \"FOOD\")]}),\n",
    "              (\"Sushi is extemely famous and expensive Japanese dish\", {\"entities\": [(0,5, \"FOOD\")]}),\n",
    "              (\"Unagi is a famous seafood of Japan\", {\"entities\": [(0,5, \"FOOD\")]}),\n",
    "              (\"Tempura , Soba are other famous dishes of Japan\", {\"entities\": [(0,7, \"FOOD\")]}),\n",
    "              (\"Udon is a healthy type of noodles\", {\"entities\": [(0,4, \"ORG\")]}),\n",
    "              (\"Chocolate soufflé is extremely famous french cuisine\", {\"entities\": [(0,17, \"FOOD\")]}),\n",
    "              (\"Flamiche is french pastry\", {\"entities\": [(0,8, \"FOOD\")]}),\n",
    "              (\"Burgers are the most commonly consumed fastfood\", {\"entities\": [(0,7, \"FOOD\")]}),\n",
    "              (\"Burgers are the most commonly consumed fastfood\", {\"entities\": [(0,7, \"FOOD\")]}),\n",
    "              (\"Frenchfries are considered too oily\", {\"entities\": [(0,11, \"FOOD\")]}),\n",
    "              (\"I ate Pasta. Pasta is tasty.\", {\"entities\":[(6,11,\"FOOD\"), (12,17,\"FOOD\")]})\n",
    "           ]"
   ]
  },
  {
   "cell_type": "code",
   "execution_count": 34,
   "id": "2a090157",
   "metadata": {},
   "outputs": [],
   "source": [
    "# Add the new label to ner\n",
    "ner.add_label(LABEL)\n",
    "\n",
    "# Resume training\n",
    "optimizer = nlp.resume_training()\n",
    "move_names = list(ner.move_names)\n",
    "\n",
    "# List of pipes you want to train\n",
    "pipe_exceptions = [\"ner\", \"trf_wordpiecer\", \"trf_tok2vec\"]\n",
    "\n",
    "# List of pipes which should remain unaffected in training\n",
    "other_pipes = [pipe for pipe in nlp.pipe_names if pipe not in pipe_exceptions]"
   ]
  },
  {
   "cell_type": "code",
   "execution_count": 35,
   "id": "65b6d6fe",
   "metadata": {},
   "outputs": [
    {
     "name": "stderr",
     "output_type": "stream",
     "text": [
      "/home/contra/.local/lib/python3.10/site-packages/spacy/training/iob_utils.py:149: UserWarning: [W030] Some entities could not be aligned in the text \"I ate Pasta. Pasta is tasty.\" with entities \"[(6, 11, 'FOOD'), (12, 17, 'FOOD')]\". Use `spacy.training.offsets_to_biluo_tags(nlp.make_doc(text), entities)` to check the alignment. Misaligned entities ('-') will be ignored during training.\n",
      "  warnings.warn(\n"
     ]
    },
    {
     "name": "stdout",
     "output_type": "stream",
     "text": [
      "Losses {'ner': 3.6249258624705205}\n",
      "Losses {'ner': 1.9505089332465553}\n",
      "Losses {'ner': 4.011434738279578}\n",
      "Losses {'ner': 3.0856892780504426}\n",
      "Losses {'ner': 3.624658125133579}\n",
      "Losses {'ner': 1.35622565485148}\n",
      "Losses {'ner': 2.880564000057278}\n",
      "Losses {'ner': 1.7840995153001993}\n",
      "Losses {'ner': 1.9965855124782705}\n",
      "Losses {'ner': 1.4626620532988628}\n",
      "Losses {'ner': 3.554805040351443}\n",
      "Losses {'ner': 1.003970111332594}\n",
      "Losses {'ner': 0.8538758163449696}\n",
      "Losses {'ner': 1.7189437664980796}\n",
      "Losses {'ner': 1.4115381512835097}\n",
      "Losses {'ner': 11.964732598825508}\n",
      "Losses {'ner': 8.655252120703546}\n",
      "Losses {'ner': 1.0781287460270315}\n",
      "Losses {'ner': 2.2588609214197763}\n",
      "Losses {'ner': 1.3779842456007356}\n",
      "Losses {'ner': 2.04140805831931}\n",
      "Losses {'ner': 2.1476722696685875}\n",
      "Losses {'ner': 1.6772365402514595}\n",
      "Losses {'ner': 1.0943905386788502}\n",
      "Losses {'ner': 2.1950733637531217}\n",
      "Losses {'ner': 1.9711288967897256}\n",
      "Losses {'ner': 1.8662544670551475}\n",
      "Losses {'ner': 3.419210785544119}\n",
      "Losses {'ner': 1.926670591790301}\n",
      "Losses {'ner': 1.129150611277839}\n"
     ]
    }
   ],
   "source": [
    "# TRAINING THE MODEL\n",
    "with nlp.disable_pipes(*unaffected_pipes):\n",
    "\n",
    "    # Training for 30 iterations\n",
    "    for iteration in range(30):\n",
    "\n",
    "        # Shuffling examples before every iteration\n",
    "        random.shuffle(TRAIN_DATA)\n",
    "        losses = {}\n",
    "\n",
    "        # Batch up the examples using spaCy's minibatch\n",
    "        batches = minibatch(TRAIN_DATA, size=compounding(4.0, 32.0, 1.001))\n",
    "\n",
    "        for batch in batches:\n",
    "            examples = []\n",
    "            for text, annotation in batch:\n",
    "                example = Example.from_dict(nlp.make_doc(text), annotation)\n",
    "                examples.append(example)\n",
    "\n",
    "            nlp.update(\n",
    "                examples,  # batch of Example objects\n",
    "                drop=0.5,  # dropout - make it harder to memorize data\n",
    "                losses=losses,\n",
    "            )\n",
    "\n",
    "        print(\"Losses\", losses)"
   ]
  },
  {
   "cell_type": "code",
   "execution_count": 36,
   "id": "92a47c22",
   "metadata": {},
   "outputs": [
    {
     "name": "stdout",
     "output_type": "stream",
     "text": [
      "Entities in 'I ate Sushi yesterday. Maggi is a common fast food '\n",
      "Sushi\n",
      "Maggi\n"
     ]
    }
   ],
   "source": [
    "test_text = \"I ate Sushi yesterday. Maggi is a common fast food \"\n",
    "doc = nlp(test_text)\n",
    "print(\"Entities in '%s'\" % test_text)\n",
    "for ent in doc.ents:\n",
    "  print(ent)"
   ]
  },
  {
   "cell_type": "code",
   "execution_count": 37,
   "id": "a7dab25c",
   "metadata": {},
   "outputs": [
    {
     "name": "stdout",
     "output_type": "stream",
     "text": [
      "Saved model to new_entity\n",
      "Loading from new_entity\n",
      "FOOD Dosa\n"
     ]
    }
   ],
   "source": [
    "output_dir=Path('new_entity')\n",
    "\n",
    "# Saving the model to the output directory\n",
    "if not output_dir.exists():\n",
    "  output_dir.mkdir()\n",
    "nlp.meta['name'] = 'my_ner'  # rename model\n",
    "nlp.to_disk(output_dir)\n",
    "print(\"Saved model to\", output_dir)\n",
    "\n",
    "# Loading the model from the directory\n",
    "print(\"Loading from\", output_dir)\n",
    "nlp2 = spacy.load(output_dir)\n",
    "assert nlp2.get_pipe(\"ner\").move_names == move_names\n",
    "doc2 = nlp2(' Dosa is an extremely famous south Indian dish')\n",
    "for ent in doc2.ents:\n",
    "  print(ent.label_, ent.text)"
   ]
  },
  {
   "cell_type": "code",
   "execution_count": null,
   "id": "aa181413",
   "metadata": {},
   "outputs": [],
   "source": []
  }
 ],
 "metadata": {
  "kernelspec": {
   "display_name": "Python 3 (ipykernel)",
   "language": "python",
   "name": "python3"
  },
  "language_info": {
   "codemirror_mode": {
    "name": "ipython",
    "version": 3
   },
   "file_extension": ".py",
   "mimetype": "text/x-python",
   "name": "python",
   "nbconvert_exporter": "python",
   "pygments_lexer": "ipython3",
   "version": "3.10.6"
  }
 },
 "nbformat": 4,
 "nbformat_minor": 5
}
