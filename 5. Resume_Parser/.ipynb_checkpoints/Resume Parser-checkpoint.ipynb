{
 "cells": [
  {
   "cell_type": "markdown",
   "id": "75035c5e",
   "metadata": {},
   "source": [
    "# Learning Custom NER model in SpaCy to auto-detect named entities"
   ]
  },
  {
   "cell_type": "code",
   "execution_count": 1,
   "id": "f037b35a",
   "metadata": {},
   "outputs": [
    {
     "name": "stderr",
     "output_type": "stream",
     "text": [
      "2024-01-25 16:35:44.504008: I tensorflow/core/platform/cpu_feature_guard.cc:182] This TensorFlow binary is optimized to use available CPU instructions in performance-critical operations.\n",
      "To enable the following instructions: AVX2 FMA, in other operations, rebuild TensorFlow with the appropriate compiler flags.\n",
      "2024-01-25 16:35:46.069070: W tensorflow/compiler/tf2tensorrt/utils/py_utils.cc:38] TF-TRT Warning: Could not find TensorRT\n",
      "/usr/lib/python3/dist-packages/scipy/__init__.py:146: UserWarning: A NumPy version >=1.17.3 and <1.25.0 is required for this version of SciPy (detected version 1.26.3\n",
      "  warnings.warn(f\"A NumPy version >={np_minversion} and <{np_maxversion}\"\n",
      "2024-01-25 16:35:48.529096: I tensorflow/compiler/xla/stream_executor/cuda/cuda_gpu_executor.cc:996] successful NUMA node read from SysFS had negative value (-1), but there must be at least one NUMA node, so returning NUMA node zero. See more at https://github.com/torvalds/linux/blob/v6.0/Documentation/ABI/testing/sysfs-bus-pci#L344-L355\n",
      "2024-01-25 16:35:48.529608: W tensorflow/core/common_runtime/gpu/gpu_device.cc:1956] Cannot dlopen some GPU libraries. Please make sure the missing libraries mentioned above are installed properly if you would like to use GPU. Follow the guide at https://www.tensorflow.org/install/gpu for how to download and setup the required libraries for your platform.\n",
      "Skipping registering GPU devices...\n"
     ]
    }
   ],
   "source": [
    "import spacy\n",
    "\n",
    "nlp = spacy.load('en_core_web_sm')"
   ]
  },
  {
   "cell_type": "code",
   "execution_count": 2,
   "id": "d4fe48f2",
   "metadata": {},
   "outputs": [
    {
     "data": {
      "text/plain": [
       "['tok2vec', 'tagger', 'parser', 'attribute_ruler', 'lemmatizer', 'ner']"
      ]
     },
     "execution_count": 2,
     "metadata": {},
     "output_type": "execute_result"
    }
   ],
   "source": [
    "nlp.pipe_names"
   ]
  },
  {
   "cell_type": "code",
   "execution_count": 3,
   "id": "20c28538",
   "metadata": {},
   "outputs": [
    {
     "name": "stdout",
     "output_type": "stream",
     "text": [
      "India GPE\n",
      "one CARDINAL\n",
      "Indian NORP\n",
      "USD 84 billion MONEY\n",
      "2021 DATE\n",
      "USD 24 billion MONEY\n",
      "2017 DATE\n",
      "India GPE\n",
      "Philip PERSON\n",
      "12% PERCENT\n",
      "2017 DATE\n",
      "22-25% PERCENT\n",
      "2021 DATE\n",
      "India GPE\n",
      "Amazon ORG\n",
      "One CARDINAL\n",
      "Amazon ORG\n",
      "Amazon ORG\n",
      "Amazon Music Limited ORG\n",
      "2007 DATE\n",
      "Flipkart ORG\n",
      "Indian NORP\n",
      "Amazon ORG\n",
      "Walmart ORG\n",
      "one CARDINAL\n",
      "US GPE\n",
      "Amazon ORG\n",
      "2010 DATE\n",
      "2011 DATE\n",
      "more than 3 CARDINAL\n",
      "India GPE\n",
      "over 30 million CARDINAL\n",
      "800 CARDINAL\n",
      "over 125,000 CARDINAL\n",
      "Indian NORP\n",
      "recent years DATE\n",
      "Freecharge PERSON\n",
      "Unicommerce GPE\n",
      "ShopClues PRODUCT\n",
      "Indian NORP\n",
      "ShopClues PRODUCT\n",
      "July 2011 DATE\n",
      "Gurugram ORG\n",
      "1.1 billion CARDINAL\n",
      "Nexus Venture Partners ORG\n",
      "Tiger Global PERSON\n",
      "Helion Ventures ORG\n",
      "more than 5 CARDINAL\n",
      "nine CARDINAL\n",
      "Paytm Mall PERSON\n",
      "Paytm PERSON\n",
      "Paytm Mall PERSON\n",
      "third ORDINAL\n",
      "Reliance Retail PERSON\n",
      "Reliance Jio PERSON\n",
      "Indian NORP\n",
      "Reliance ORG\n",
      "Reliance ORG\n",
      "India GPE\n",
      "two CARDINAL\n",
      "One CARDINAL\n",
      "Grofers ORG\n",
      "2013 DATE\n",
      "the last 5 years DATE\n",
      "daily DATE\n",
      "India GPE\n",
      "Indian NORP\n",
      "Digital Mall of Asia – Going live FAC\n",
      "2020 DATE\n",
      "Digital Mall of Asia FAC\n",
      "Yokeasia GPE\n",
      "zero CARDINAL\n",
      "monthly DATE\n",
      "one CARDINAL\n",
      "DMA ORG\n"
     ]
    }
   ],
   "source": [
    "article_text=\"\"\"India that previously comprised only a handful of players in the e-commerce space, is now home to many biggies and giants battling out with each other to reach the top. This is thanks to the overwhelming internet and smartphone penetration coupled with the ever-increasing digital adoption across the country. These new-age innovations not only gave emerging startups a unique platform to deliver seamless shopping experiences but also provided brick and mortar stores with a level-playing field to begin their online journeys without leaving their offline legacies.\n",
    "In the wake of so many players coming together on one platform, the Indian e-commerce market is envisioned to reach USD 84 billion in 2021 from USD 24 billion in 2017. Further, with the rate at which internet penetration is increasing, we can expect more and more international retailers coming to India in addition to a large pool of new startups. This, in turn, will provide a major Philip to the organized retail market and boost its share from 12% in 2017 to 22-25% by 2021. \n",
    "Here’s a view to the e-commerce giants that are dominating India’s online shopping space:\n",
    "Amazon – One of the uncontested global leaders, Amazon started its journey as a simple online bookstore that gradually expanded its reach to provide a large suite of diversified products including media, furniture, food, and electronics, among others. And now with the launch of Amazon Prime and Amazon Music Limited, it has taken customer experience to a godly level, which will remain undefeatable for a very long time. \n",
    "\n",
    "Flipkart – Founded in 2007, Flipkart is recognized as the national leader in the Indian e-commerce market. Just like Amazon, it started operating by selling books and then entered other categories such as electronics, fashion, and lifestyle, mobile phones, etc. And now that it has been acquired by Walmart, one of the largest leading platforms of e-commerce in the US, it has also raised its bar of customer offerings in all aspects and giving huge competition to Amazon. \n",
    "\n",
    "Snapdeal – Started as a daily deals platform in 2010, Snapdeal became a full-fledged online marketplace in 2011 comprising more than 3 lac sellers across India. The platform offers over 30 million products across 800+ diverse categories from over 125,000 regional, national, and international brands and retailers. The Indian e-commerce firm follows a robust strategy to stay at the forefront of innovation and deliver seamless customer offerings to its wide customer base. It has shown great potential for recovery in recent years despite losing Freecharge and Unicommerce. \n",
    "\n",
    "ShopClues – Another renowned name in the Indian e-commerce industry, ShopClues was founded in July 2011. It’s a Gurugram based company having a current valuation of INR 1.1 billion and is backed by prominent names including Nexus Venture Partners, Tiger Global, and Helion Ventures as its major investors. Presently, the platform comprises more than 5 lac sellers selling products in nine different categories such as computers, cameras, mobiles, etc. \n",
    "\n",
    "Paytm Mall – To compete with the existing e-commerce giants, Paytm, an online payment system has also launched its online marketplace – Paytm Mall, which offers a wide array of products ranging from men and women fashion to groceries and cosmetics, electronics and home products, and many more. The unique thing about this platform is that it serves as a medium for third parties to sell their products directly through the widely-known app – Paytm. \n",
    "\n",
    "Reliance Retail – Given Reliance Jio’s disruptive venture in the Indian telecom space along with a solid market presence of Reliance, it is no wonder that Reliance will soon be foraying into retail space. As of now, it has plans to build an e-commerce space that will be established on online-to-offline market program and aim to bring local merchants on board to help them boost their sales and compete with the existing industry leaders. \n",
    "Big Basket – India’s biggest online supermarket, Big Basket provides a wide variety of imported and gourmet products through two types of delivery services – express delivery and slotted delivery. It also offers pre-cut fruits along with a long list of beverages including fresh juices, cold drinks, hot teas, etc. Moreover, it not only provides farm-fresh products but also ensures that the farmer gets better prices. \n",
    "\n",
    "Grofers – One of the leading e-commerce players in the grocery segment, Grofers started its operations in 2013 and has reached overwhelming heights in the last 5 years. Its wide range of products includes atta, milk, oil, daily need products, vegetables, dairy products, juices, beverages, among others. With its growing reach across India, it has become one of the favorite supermarkets for Indian consumers who want to shop grocery items from the comforts of their homes. \n",
    "\n",
    "Digital Mall of Asia – Going live in 2020, Digital Mall of Asia is a very unique concept coined by the founders of Yokeasia Malls. It is designed to provide an immersive digital space equipped with multiple visual and sensory elements to sellers and shoppers. It will also give retailers exclusive rights to sell a particular product category or brand in their respective cities. What makes it unique is its zero-commission model enabling retailers to pay only a fixed amount of monthly rental instead of paying commissions. With its one-of-a-kind features, DMA is expected to bring\n",
    "never-seen transformation to the current e-commerce ecosystem while addressing all the existing e-commerce worries such as counterfeiting. \"\"\"\n",
    "\n",
    "doc=nlp(article_text)\n",
    "for ent in doc.ents:\n",
    "  print(ent.text,ent.label_)"
   ]
  },
  {
   "cell_type": "markdown",
   "id": "aad44cf7",
   "metadata": {},
   "source": [
    "Observe the above output. Notice that FLIPKART has been identified as PERSON, it should have been ORG . Walmart has also been categorized wrongly as LOC , in this context it should have been ORG . Same goes for Freecharge , ShopClues ,etc..\n"
   ]
  },
  {
   "cell_type": "markdown",
   "id": "16fdac78",
   "metadata": {},
   "source": [
    "### Training NER to correctly classify "
   ]
  },
  {
   "cell_type": "code",
   "execution_count": 4,
   "id": "0544e4ab",
   "metadata": {},
   "outputs": [],
   "source": [
    "ner = nlp.get_pipe('ner')"
   ]
  },
  {
   "cell_type": "markdown",
   "id": "f63ebd13",
   "metadata": {},
   "source": [
    "spaCy accepts training data as list of tuples.\n",
    "\n",
    "Each tuple should contain the text and a dictionary. The dictionary should hold the start and end indices of the named enity in the text, and the category or label of the named entity.\n",
    "\n",
    "For example, (\"Walmart is a leading e-commerce company\", {\"entities\": [(0, 7, \"ORG\")]})"
   ]
  },
  {
   "cell_type": "code",
   "execution_count": 5,
   "id": "9843d62d",
   "metadata": {},
   "outputs": [],
   "source": [
    "# training data\n",
    "TRAIN_DATA = [\n",
    "              (\"Walmart is a leading e-commerce company\", {\"entities\": [(0, 7, \"ORG\")]}),\n",
    "              (\"I reached Chennai yesterday.\", {\"entities\": [(10, 16, \"GPE\")]}),\n",
    "              (\"I recently ordered a book from Amazon\", {\"entities\": [(24,32, \"ORG\")]}),\n",
    "              (\"I was driving a BMW\", {\"entities\": [(16,19, \"PRODUCT\")]}),\n",
    "              (\"I ordered this from ShopClues\", {\"entities\": [(20,29, \"ORG\")]}),\n",
    "              (\"Fridge can be ordered in Amazon \", {\"entities\": [(0,6, \"PRODUCT\")]}),\n",
    "              (\"I bought a new Washer\", {\"entities\": [(16,22, \"PRODUCT\")]}),\n",
    "              (\"I bought a old table\", {\"entities\": [(16,21, \"PRODUCT\")]}),\n",
    "              (\"I bought a fancy dress\", {\"entities\": [(18,23, \"PRODUCT\")]}),\n",
    "              (\"I rented a camera\", {\"entities\": [(12,18, \"PRODUCT\")]}),\n",
    "              (\"I rented a tent for our trip\", {\"entities\": [(12,16, \"PRODUCT\")]}),\n",
    "              (\"I rented a screwdriver from our neighbour\", {\"entities\": [(12,22, \"PRODUCT\")]}),\n",
    "              (\"I repaired my computer\", {\"entities\": [(15,23, \"PRODUCT\")]}),\n",
    "              (\"I got my clock fixed\", {\"entities\": [(16,21, \"PRODUCT\")]}),\n",
    "              (\"I got my truck fixed\", {\"entities\": [(16,21, \"PRODUCT\")]}),\n",
    "              (\"Flipkart started it's journey from zero\", {\"entities\": [(0,8, \"ORG\")]}),\n",
    "              (\"I recently ordered from Max\", {\"entities\": [(24,27, \"ORG\")]}),\n",
    "              (\"Flipkart is recognized as leader in market\",{\"entities\": [(0,8, \"ORG\")]}),\n",
    "              (\"I recently ordered from Swiggy\", {\"entities\": [(24,29, \"ORG\")]}),\n",
    "              (\"I am driving a Toyota.\", {\"entities\":[(16,21,\"PRODUCT\")]})\n",
    "              ]"
   ]
  },
  {
   "cell_type": "code",
   "execution_count": 6,
   "id": "eeba8c19",
   "metadata": {},
   "outputs": [],
   "source": [
    "# Adding labels to the `ner`\n",
    "\n",
    "for _, annotations in TRAIN_DATA:\n",
    "  for ent in annotations.get(\"entities\"):\n",
    "    ner.add_label(ent[2])"
   ]
  },
  {
   "cell_type": "code",
   "execution_count": 7,
   "id": "2d1b00f2",
   "metadata": {},
   "outputs": [],
   "source": [
    "# While training one pipeline, other pipelines shouldn't be affected\n",
    "\n",
    "# Disable pipeline components you dont need to change\n",
    "pipe_exceptions = [\"ner\", \"trf_wordpiecer\", \"trf_tok2vec\"]\n",
    "unaffected_pipes = [pipe for pipe in nlp.pipe_names if pipe not in pipe_exceptions]"
   ]
  },
  {
   "cell_type": "markdown",
   "id": "20e274db",
   "metadata": {},
   "source": [
    "(a) To train an ner model, the model has to be looped over the example for sufficient number of iterations. If you train it for like just 5 or 6 iterations, it may not be effective.\n",
    "\n",
    "(b) Before every iteration it’s a good practice to shuffle the examples randomly throughrandom.shuffle() function to ensure the model does not make generalizations based on the order of the examples.\n",
    "\n",
    "(c) The training data is usually passed in batches."
   ]
  },
  {
   "cell_type": "markdown",
   "id": "7c8cabf3",
   "metadata": {},
   "source": [
    "You can call the minibatch() function of spaCy over the training data that will return you data in batches . The minibatch function takes size parameter to denote the batch size. You can make use of the utility function compounding to generate an infinite series of compounding values.\n",
    "\n",
    "compunding() function takes three inputs which are start ( the first integer value) ,stop (the maximum value that can be generated) and finally compound. This value stored in compund is the compounding factor for the series.If you are not clear, check out this link for understanding.\n",
    "\n",
    "For each iteration , the model or ner is updated through the nlp.update() command. Parameters of nlp.update() are :\n",
    "\n",
    "    docs: This expects a batch of texts as input. You can pass each batch to the zip method, which will return you batches of text and annotations. `\n",
    "\n",
    "    golds: You can pass the annotations we got through zip method here\n",
    "\n",
    "    drop: This represents the dropout rate.\n",
    "\n",
    "    losses: A dictionary to hold the losses against each pipeline component. Create an empty dictionary and pass it here.\n",
    "\n",
    "At each word, the update() it makes a prediction. It then consults the annotations to check if the prediction is right. If it isn’t , it adjusts the weights so that the correct action will score higher next time.\n",
    "\n",
    "Finally, all of the training is done within the context of the nlp model with disabled pipeline, to prevent the other components from being involved."
   ]
  },
  {
   "cell_type": "code",
   "execution_count": 8,
   "id": "337b2e68",
   "metadata": {},
   "outputs": [
    {
     "name": "stderr",
     "output_type": "stream",
     "text": [
      "/home/contra/.local/lib/python3.10/site-packages/spacy/training/iob_utils.py:149: UserWarning: [W030] Some entities could not be aligned in the text \"I recently ordered from Swiggy\" with entities \"[(24, 29, 'ORG')]\". Use `spacy.training.offsets_to_biluo_tags(nlp.make_doc(text), entities)` to check the alignment. Misaligned entities ('-') will be ignored during training.\n",
      "  warnings.warn(\n",
      "/home/contra/.local/lib/python3.10/site-packages/spacy/training/iob_utils.py:149: UserWarning: [W030] Some entities could not be aligned in the text \"I got my truck fixed\" with entities \"[(16, 21, 'PRODUCT')]\". Use `spacy.training.offsets_to_biluo_tags(nlp.make_doc(text), entities)` to check the alignment. Misaligned entities ('-') will be ignored during training.\n",
      "  warnings.warn(\n",
      "/home/contra/.local/lib/python3.10/site-packages/spacy/training/iob_utils.py:149: UserWarning: [W030] Some entities could not be aligned in the text \"I rented a screwdriver from our neighbour\" with entities \"[(12, 22, 'PRODUCT')]\". Use `spacy.training.offsets_to_biluo_tags(nlp.make_doc(text), entities)` to check the alignment. Misaligned entities ('-') will be ignored during training.\n",
      "  warnings.warn(\n",
      "/home/contra/.local/lib/python3.10/site-packages/spacy/training/iob_utils.py:149: UserWarning: [W030] Some entities could not be aligned in the text \"I am driving a Toyota.\" with entities \"[(16, 21, 'PRODUCT')]\". Use `spacy.training.offsets_to_biluo_tags(nlp.make_doc(text), entities)` to check the alignment. Misaligned entities ('-') will be ignored during training.\n",
      "  warnings.warn(\n",
      "/home/contra/.local/lib/python3.10/site-packages/spacy/training/iob_utils.py:149: UserWarning: [W030] Some entities could not be aligned in the text \"I rented a tent for our trip\" with entities \"[(12, 16, 'PRODUCT')]\". Use `spacy.training.offsets_to_biluo_tags(nlp.make_doc(text), entities)` to check the alignment. Misaligned entities ('-') will be ignored during training.\n",
      "  warnings.warn(\n",
      "/home/contra/.local/lib/python3.10/site-packages/spacy/training/iob_utils.py:149: UserWarning: [W030] Some entities could not be aligned in the text \"I bought a old table\" with entities \"[(16, 21, 'PRODUCT')]\". Use `spacy.training.offsets_to_biluo_tags(nlp.make_doc(text), entities)` to check the alignment. Misaligned entities ('-') will be ignored during training.\n",
      "  warnings.warn(\n",
      "/home/contra/.local/lib/python3.10/site-packages/spacy/training/iob_utils.py:149: UserWarning: [W030] Some entities could not be aligned in the text \"I bought a new Washer\" with entities \"[(16, 22, 'PRODUCT')]\". Use `spacy.training.offsets_to_biluo_tags(nlp.make_doc(text), entities)` to check the alignment. Misaligned entities ('-') will be ignored during training.\n",
      "  warnings.warn(\n",
      "/home/contra/.local/lib/python3.10/site-packages/spacy/training/iob_utils.py:149: UserWarning: [W030] Some entities could not be aligned in the text \"I rented a camera\" with entities \"[(12, 18, 'PRODUCT')]\". Use `spacy.training.offsets_to_biluo_tags(nlp.make_doc(text), entities)` to check the alignment. Misaligned entities ('-') will be ignored during training.\n",
      "  warnings.warn(\n",
      "/home/contra/.local/lib/python3.10/site-packages/spacy/training/iob_utils.py:149: UserWarning: [W030] Some entities could not be aligned in the text \"I repaired my computer\" with entities \"[(15, 23, 'PRODUCT')]\". Use `spacy.training.offsets_to_biluo_tags(nlp.make_doc(text), entities)` to check the alignment. Misaligned entities ('-') will be ignored during training.\n",
      "  warnings.warn(\n",
      "/home/contra/.local/lib/python3.10/site-packages/spacy/training/iob_utils.py:149: UserWarning: [W030] Some entities could not be aligned in the text \"I got my clock fixed\" with entities \"[(16, 21, 'PRODUCT')]\". Use `spacy.training.offsets_to_biluo_tags(nlp.make_doc(text), entities)` to check the alignment. Misaligned entities ('-') will be ignored during training.\n",
      "  warnings.warn(\n",
      "/home/contra/.local/lib/python3.10/site-packages/spacy/training/iob_utils.py:149: UserWarning: [W030] Some entities could not be aligned in the text \"I reached Chennai yesterday.\" with entities \"[(10, 16, 'GPE')]\". Use `spacy.training.offsets_to_biluo_tags(nlp.make_doc(text), entities)` to check the alignment. Misaligned entities ('-') will be ignored during training.\n",
      "  warnings.warn(\n",
      "/home/contra/.local/lib/python3.10/site-packages/spacy/training/iob_utils.py:149: UserWarning: [W030] Some entities could not be aligned in the text \"I recently ordered a book from Amazon\" with entities \"[(24, 32, 'ORG')]\". Use `spacy.training.offsets_to_biluo_tags(nlp.make_doc(text), entities)` to check the alignment. Misaligned entities ('-') will be ignored during training.\n",
      "  warnings.warn(\n",
      "/home/contra/.local/lib/python3.10/site-packages/spacy/training/iob_utils.py:149: UserWarning: [W030] Some entities could not be aligned in the text \"I bought a fancy dress\" with entities \"[(18, 23, 'PRODUCT')]\". Use `spacy.training.offsets_to_biluo_tags(nlp.make_doc(text), entities)` to check the alignment. Misaligned entities ('-') will be ignored during training.\n",
      "  warnings.warn(\n"
     ]
    },
    {
     "name": "stdout",
     "output_type": "stream",
     "text": [
      "Losses {'ner': 12.627116819180427}\n",
      "Losses {'ner': 12.296689477590956}\n",
      "Losses {'ner': 8.018421360282048}\n",
      "Losses {'ner': 6.679946564469708}\n",
      "Losses {'ner': 4.926677575663171}\n",
      "Losses {'ner': 6.7274929804850405}\n",
      "Losses {'ner': 6.563331179880805}\n",
      "Losses {'ner': 5.308202994452159}\n",
      "Losses {'ner': 4.031523876723371}\n",
      "Losses {'ner': 3.9353478037713274}\n",
      "Losses {'ner': 5.311711217125547}\n",
      "Losses {'ner': 1.941630335921656}\n",
      "Losses {'ner': 3.716108330236209}\n",
      "Losses {'ner': 1.071835043459573}\n",
      "Losses {'ner': 0.005999894522610816}\n",
      "Losses {'ner': 2.0439519938993023}\n",
      "Losses {'ner': 0.34950106688658183}\n",
      "Losses {'ner': 2.4175933951883484}\n",
      "Losses {'ner': 1.531825045214508}\n",
      "Losses {'ner': 3.3316286524298926}\n",
      "Losses {'ner': 0.0007523161833997229}\n",
      "Losses {'ner': 0.8558125010895046}\n",
      "Losses {'ner': 0.1186329347730497}\n",
      "Losses {'ner': 0.07161932761267786}\n",
      "Losses {'ner': 0.002767797368609169}\n",
      "Losses {'ner': 0.1084365778552901}\n",
      "Losses {'ner': 0.0027518657439247283}\n",
      "Losses {'ner': 1.8044131982793832}\n",
      "Losses {'ner': 0.0001804410403997985}\n",
      "Losses {'ner': 3.270297302531644e-07}\n"
     ]
    }
   ],
   "source": [
    "import random\n",
    "from spacy.training.example import Example\n",
    "from spacy.util import minibatch, compounding\n",
    "from pathlib import Path\n",
    "\n",
    "# TRAINING THE MODEL\n",
    "with nlp.disable_pipes(*unaffected_pipes):\n",
    "\n",
    "    # Training for 30 iterations\n",
    "    for iteration in range(30):\n",
    "\n",
    "        # Shuffling examples before every iteration\n",
    "        random.shuffle(TRAIN_DATA)\n",
    "        losses = {}\n",
    "\n",
    "        # Batch up the examples using spaCy's minibatch\n",
    "        batches = minibatch(TRAIN_DATA, size=compounding(4.0, 32.0, 1.001))\n",
    "\n",
    "        for batch in batches:\n",
    "            examples = []\n",
    "            for text, annotation in batch:\n",
    "                example = Example.from_dict(nlp.make_doc(text), annotation)\n",
    "                examples.append(example)\n",
    "\n",
    "            nlp.update(\n",
    "                examples,  # batch of Example objects\n",
    "                drop=0.5,  # dropout - make it harder to memorize data\n",
    "                losses=losses,\n",
    "            )\n",
    "\n",
    "        print(\"Losses\", losses)"
   ]
  },
  {
   "cell_type": "code",
   "execution_count": 9,
   "id": "19746786",
   "metadata": {},
   "outputs": [
    {
     "name": "stdout",
     "output_type": "stream",
     "text": [
      "\n",
      "Entities [('AUDI', 'PRODUCT')]\n"
     ]
    }
   ],
   "source": [
    "doc = nlp(\"I am driving a AUDI\")\n",
    "print()\n",
    "print(\"Entities\", [(ent.text, ent.label_) for ent in doc.ents])"
   ]
  },
  {
   "cell_type": "markdown",
   "id": "1c17766e",
   "metadata": {},
   "source": [
    "You can observe that even though I didn’t directly train the model to recognize “AUDI” as a vehicle name, it has predicted based on the similarity of context.\n",
    "\n",
    "This is the awesome part of the NER model.\n",
    "\n",
    "The model does not just memorize the training examples. It should learn from them and be able to generalize it to new examples."
   ]
  },
  {
   "cell_type": "code",
   "execution_count": 10,
   "id": "65bbdb5c",
   "metadata": {},
   "outputs": [],
   "source": [
    "# # Save the  model to directory\n",
    "# output_dir = Path('nlp')\n",
    "# nlp.to_disk(output_dir)\n",
    "# print(\"Saved model to\", output_dir)\n",
    "\n",
    "# # Load the saved model and predict\n",
    "# print(\"Loading from\", output_dir)\n",
    "# nlp_updated = spacy.load(output_dir)\n",
    "# doc = nlp_updated(\"Fridge can be ordered in FlipKart\" )\n",
    "# print(\"Entities\", [(ent.text, ent.label_) for ent in doc.ents])"
   ]
  },
  {
   "cell_type": "markdown",
   "id": "b034c089",
   "metadata": {},
   "source": [
    "#### Training ner from blank spacy model"
   ]
  },
  {
   "cell_type": "markdown",
   "id": "69f70512",
   "metadata": {},
   "source": [
    "As it is an empty model , it does not have any pipeline component by default. You have to add the ner to the pipeline through `add_pipe()` method.\n",
    "\n",
    "You’ll not have to disable other pipelines as in previous case\n",
    "\n",
    "You must provide a larger number of training examples comparitively in rhis case.\n",
    "\n",
    "Before you start training the new model set `nlp.begin_training()`."
   ]
  },
  {
   "cell_type": "code",
   "execution_count": 11,
   "id": "e9327486",
   "metadata": {},
   "outputs": [
    {
     "data": {
      "text/plain": [
       "<thinc.optimizers.Optimizer at 0x7fb25c41ee80>"
      ]
     },
     "execution_count": 11,
     "metadata": {},
     "output_type": "execute_result"
    }
   ],
   "source": [
    "nlp=spacy.blank(\"en\")\n",
    "\n",
    "ner = nlp.add_pipe('ner')\n",
    "\n",
    "nlp.begin_training()\n",
    "\n",
    "#After this, you can follow the same exact procedure as in the case for pre-existing model.\n",
    "#This is how you can train the named entity recognizer to identify and categorize correctly as per the context."
   ]
  },
  {
   "cell_type": "markdown",
   "id": "937b159a",
   "metadata": {},
   "source": [
    "#### Adding new entity type"
   ]
  },
  {
   "cell_type": "code",
   "execution_count": 12,
   "id": "4252ee53",
   "metadata": {},
   "outputs": [],
   "source": [
    "nlp=spacy.load(\"en_core_web_sm\") \n",
    "\n",
    "# Getting the ner component\n",
    "ner=nlp.get_pipe('ner')"
   ]
  },
  {
   "cell_type": "code",
   "execution_count": 13,
   "id": "f2696ae2",
   "metadata": {},
   "outputs": [],
   "source": [
    "# New label to add\n",
    "LABEL = \"FOOD\"\n",
    "\n",
    "# Training examples in the required format\n",
    "TRAIN_DATA =[ (\"Pizza is a common fast food.\", {\"entities\": [(0, 5, \"FOOD\")]}),\n",
    "              (\"Pasta is an italian recipe\", {\"entities\": [(0, 5, \"FOOD\")]}),\n",
    "              (\"China's noodles are very famous\", {\"entities\": [(8,14, \"FOOD\")]}),\n",
    "              (\"Shrimps are famous in China too\", {\"entities\": [(0,7, \"FOOD\")]}),\n",
    "              (\"Lasagna is another classic of Italy\", {\"entities\": [(0,7, \"FOOD\")]}),\n",
    "              (\"Sushi is extemely famous and expensive Japanese dish\", {\"entities\": [(0,5, \"FOOD\")]}),\n",
    "              (\"Unagi is a famous seafood of Japan\", {\"entities\": [(0,5, \"FOOD\")]}),\n",
    "              (\"Tempura , Soba are other famous dishes of Japan\", {\"entities\": [(0,7, \"FOOD\")]}),\n",
    "              (\"Udon is a healthy type of noodles\", {\"entities\": [(0,4, \"ORG\")]}),\n",
    "              (\"Chocolate soufflé is extremely famous french cuisine\", {\"entities\": [(0,17, \"FOOD\")]}),\n",
    "              (\"Flamiche is french pastry\", {\"entities\": [(0,8, \"FOOD\")]}),\n",
    "              (\"Burgers are the most commonly consumed fastfood\", {\"entities\": [(0,7, \"FOOD\")]}),\n",
    "              (\"Burgers are the most commonly consumed fastfood\", {\"entities\": [(0,7, \"FOOD\")]}),\n",
    "              (\"Frenchfries are considered too oily\", {\"entities\": [(0,11, \"FOOD\")]}),\n",
    "              (\"I ate Pasta. Pasta is tasty.\", {\"entities\":[(6,11,\"FOOD\"), (12,17,\"FOOD\")]})\n",
    "           ]"
   ]
  },
  {
   "cell_type": "code",
   "execution_count": 14,
   "id": "782a145e",
   "metadata": {},
   "outputs": [],
   "source": [
    "# Add the new label to ner\n",
    "ner.add_label(LABEL)\n",
    "\n",
    "# Resume training\n",
    "optimizer = nlp.resume_training()\n",
    "move_names = list(ner.move_names)\n",
    "\n",
    "# List of pipes you want to train\n",
    "pipe_exceptions = [\"ner\", \"trf_wordpiecer\", \"trf_tok2vec\"]\n",
    "\n",
    "# List of pipes which should remain unaffected in training\n",
    "other_pipes = [pipe for pipe in nlp.pipe_names if pipe not in pipe_exceptions]"
   ]
  },
  {
   "cell_type": "code",
   "execution_count": 15,
   "id": "3881e55f",
   "metadata": {},
   "outputs": [
    {
     "name": "stderr",
     "output_type": "stream",
     "text": [
      "/home/contra/.local/lib/python3.10/site-packages/spacy/training/iob_utils.py:149: UserWarning: [W030] Some entities could not be aligned in the text \"I ate Pasta. Pasta is tasty.\" with entities \"[(6, 11, 'FOOD'), (12, 17, 'FOOD')]\". Use `spacy.training.offsets_to_biluo_tags(nlp.make_doc(text), entities)` to check the alignment. Misaligned entities ('-') will be ignored during training.\n",
      "  warnings.warn(\n",
      "/home/contra/.local/lib/python3.10/site-packages/spacy/training/iob_utils.py:149: UserWarning: [W030] Some entities could not be aligned in the text \"China's noodles are very famous\" with entities \"[(8, 14, 'FOOD')]\". Use `spacy.training.offsets_to_biluo_tags(nlp.make_doc(text), entities)` to check the alignment. Misaligned entities ('-') will be ignored during training.\n",
      "  warnings.warn(\n"
     ]
    },
    {
     "name": "stdout",
     "output_type": "stream",
     "text": [
      "Losses {'ner': 37.435387785445656}\n",
      "Losses {'ner': 31.70997157615067}\n",
      "Losses {'ner': 32.763010752935074}\n",
      "Losses {'ner': 23.990172404486202}\n",
      "Losses {'ner': 22.82856027494836}\n",
      "Losses {'ner': 19.56832916372923}\n",
      "Losses {'ner': 21.37380138946719}\n",
      "Losses {'ner': 23.25200832723931}\n",
      "Losses {'ner': 15.87637096249091}\n",
      "Losses {'ner': 13.595656397803396}\n",
      "Losses {'ner': 9.69778664385376}\n",
      "Losses {'ner': 6.86191773520477}\n",
      "Losses {'ner': 10.169518938018882}\n",
      "Losses {'ner': 7.286163937362289}\n",
      "Losses {'ner': 7.540985062236814}\n",
      "Losses {'ner': 4.6638474940398}\n",
      "Losses {'ner': 3.8291485571394066}\n",
      "Losses {'ner': 5.580344623432978}\n",
      "Losses {'ner': 2.6739358833712155}\n",
      "Losses {'ner': 4.128425587587142}\n",
      "Losses {'ner': 3.301403074634641}\n",
      "Losses {'ner': 2.2559181369256702}\n",
      "Losses {'ner': 3.098890908624269}\n",
      "Losses {'ner': 3.3125489353400894}\n",
      "Losses {'ner': 1.8533594425816478}\n",
      "Losses {'ner': 1.4544710627977964}\n",
      "Losses {'ner': 2.214098725191601}\n",
      "Losses {'ner': 1.43036064747223}\n",
      "Losses {'ner': 2.7336248287238463}\n",
      "Losses {'ner': 1.2736636442134113}\n"
     ]
    }
   ],
   "source": [
    "# TRAINING THE MODEL\n",
    "with nlp.disable_pipes(*other_pipes):\n",
    "\n",
    "    # Training for 30 iterations\n",
    "    for iteration in range(30):\n",
    "\n",
    "        # Shuffling examples before every iteration\n",
    "        random.shuffle(TRAIN_DATA)\n",
    "        losses = {}\n",
    "\n",
    "        # Batch up the examples using spaCy's minibatch\n",
    "        batches = minibatch(TRAIN_DATA, size=compounding(4.0, 32.0, 1.001))\n",
    "\n",
    "        for batch in batches:\n",
    "            examples = []\n",
    "            for text, annotation in batch:\n",
    "                example = Example.from_dict(nlp.make_doc(text), annotation)\n",
    "                examples.append(example)\n",
    "\n",
    "            nlp.update(\n",
    "                examples,  # batch of Example objects\n",
    "                drop=0.5,  # dropout - make it harder to memorize data\n",
    "                losses=losses,\n",
    "            )\n",
    "\n",
    "        print(\"Losses\", losses)"
   ]
  },
  {
   "cell_type": "code",
   "execution_count": 16,
   "id": "118e9c9d",
   "metadata": {},
   "outputs": [
    {
     "name": "stdout",
     "output_type": "stream",
     "text": [
      "Entities in 'I ate Sushi yesterday. Maggi is a common fast food '\n",
      "Sushi\n",
      "Maggi\n"
     ]
    }
   ],
   "source": [
    "test_text = \"I ate Sushi yesterday. Maggi is a common fast food \"\n",
    "doc = nlp(test_text)\n",
    "print(\"Entities in '%s'\" % test_text)\n",
    "for ent in doc.ents:\n",
    "  print(ent)"
   ]
  },
  {
   "cell_type": "code",
   "execution_count": 17,
   "id": "6c5d5743",
   "metadata": {},
   "outputs": [],
   "source": [
    "# output_dir=Path('new_entity')\n",
    "\n",
    "# # Saving the model to the output directory\n",
    "# if not output_dir.exists():\n",
    "#   output_dir.mkdir()\n",
    "# nlp.meta['name'] = 'my_ner'  # rename model\n",
    "# nlp.to_disk(output_dir)\n",
    "# print(\"Saved model to\", output_dir)\n",
    "\n",
    "# # Loading the model from the directory\n",
    "# print(\"Loading from\", output_dir)\n",
    "# nlp2 = spacy.load(output_dir)\n",
    "# assert nlp2.get_pipe(\"ner\").move_names == move_names\n",
    "# doc2 = nlp2(' Dosa is an extremely famous south Indian dish')\n",
    "# for ent in doc2.ents:\n",
    "#   print(ent.label_, ent.text)"
   ]
  },
  {
   "cell_type": "markdown",
   "id": "c39eb21f",
   "metadata": {},
   "source": [
    "# Resume Parser using Spacy"
   ]
  },
  {
   "cell_type": "code",
   "execution_count": 18,
   "id": "4a1575b9",
   "metadata": {},
   "outputs": [
    {
     "name": "stdout",
     "output_type": "stream",
     "text": [
      "Defaulting to user installation because normal site-packages is not writeable\n",
      "Collecting pdfminer.six\n",
      "  Downloading pdfminer.six-20231228-py3-none-any.whl (5.6 MB)\n",
      "\u001b[2K     \u001b[38;2;114;156;31m━━━━━━━━━━━━━━━━━━━━━━━━━━━━━━━━━━━━━━━━\u001b[0m \u001b[32m5.6/5.6 MB\u001b[0m \u001b[31m8.5 MB/s\u001b[0m eta \u001b[36m0:00:00\u001b[0mm eta \u001b[36m0:00:01\u001b[0m0:01\u001b[0m:01\u001b[0m0m\n",
      "\u001b[?25hCollecting cryptography>=36.0.0\n",
      "  Downloading cryptography-42.0.1-cp39-abi3-manylinux_2_28_x86_64.whl (4.6 MB)\n",
      "\u001b[2K     \u001b[38;2;114;156;31m━━━━━━━━━━━━━━━━━━━━━━━━━━━━━━━━━━━━━━━━\u001b[0m \u001b[32m4.6/4.6 MB\u001b[0m \u001b[31m9.0 MB/s\u001b[0m eta \u001b[36m0:00:00\u001b[0m0m eta \u001b[36m0:00:01\u001b[0m[36m0:00:01\u001b[0m\n",
      "\u001b[?25hRequirement already satisfied: charset-normalizer>=2.0.0 in /home/contra/.local/lib/python3.10/site-packages (from pdfminer.six) (3.0.1)\n",
      "Requirement already satisfied: cffi>=1.12 in /home/contra/.local/lib/python3.10/site-packages (from cryptography>=36.0.0->pdfminer.six) (1.15.1)\n",
      "Requirement already satisfied: pycparser in /home/contra/.local/lib/python3.10/site-packages (from cffi>=1.12->cryptography>=36.0.0->pdfminer.six) (2.21)\n",
      "Installing collected packages: cryptography, pdfminer.six\n",
      "Successfully installed cryptography-42.0.1 pdfminer.six-20231228\n"
     ]
    }
   ],
   "source": [
    "!pip install pdfminer.six"
   ]
  },
  {
   "cell_type": "code",
   "execution_count": 19,
   "id": "4e6a5b76",
   "metadata": {},
   "outputs": [],
   "source": [
    "from pdfminer.high_level import extract_text\n",
    "\n",
    "def extract_text_from_pdf(pdf_path):\n",
    "    return extract_text(pdf_path)"
   ]
  },
  {
   "cell_type": "code",
   "execution_count": 20,
   "id": "abd03d18",
   "metadata": {},
   "outputs": [],
   "source": [
    "def parse_resume(text):\n",
    "    doc = nlp(text)\n",
    "\n",
    "    # Extract information based on spaCy's NER (Named Entity Recognition) capabilities\n",
    "    entities = [(ent.text, ent.label_) for ent in doc.ents]\n",
    "\n",
    "    return entities"
   ]
  },
  {
   "cell_type": "code",
   "execution_count": 65,
   "id": "ee2a27ff",
   "metadata": {},
   "outputs": [
    {
     "data": {
      "text/plain": [
       "['tok2vec', 'tagger', 'parser', 'attribute_ruler', 'lemmatizer', 'ner']"
      ]
     },
     "execution_count": 65,
     "metadata": {},
     "output_type": "execute_result"
    }
   ],
   "source": [
    "nlp=spacy.load('en_core_web_sm')\n",
    "nlp.pipe_names"
   ]
  },
  {
   "cell_type": "code",
   "execution_count": 66,
   "id": "482cccb1",
   "metadata": {},
   "outputs": [],
   "source": [
    "pipe_exceptions = [\"ner\", \"trf_wordpiecer\", \"trf_tok2vec\"]\n",
    "unaffected_pipes = [pipe for pipe in nlp.pipe_names if pipe not in pipe_exceptions]"
   ]
  },
  {
   "cell_type": "code",
   "execution_count": 67,
   "id": "461b5047",
   "metadata": {},
   "outputs": [],
   "source": [
    "# Add the new label to ner\n",
    "Label1 = \"TENURE\"\n",
    "Label2 = \"SKILLS\"\n",
    "Label3 = \"COURSE\"\n",
    "Label4 = \"INVOLVEMENT\"\n",
    "Label5 = \"EXPERIENCE\"\n",
    "\n",
    "# label=[]\n",
    "# for i in range(1, 6):\n",
    "#     label.append(globals()[f\"Label{i}\"])\n",
    "\n",
    "for i in range(1,6):\n",
    "    ner.add_label(globals()[f\"Label{i}\"])\n",
    "\n",
    "# Resume training\n",
    "optimizer = nlp.resume_training()\n",
    "move_names = list(ner.move_names)"
   ]
  },
  {
   "cell_type": "code",
   "execution_count": 68,
   "id": "5de67e1c",
   "metadata": {},
   "outputs": [
    {
     "data": {
      "text/plain": [
       "('CARDINAL',\n",
       " 'COURSE',\n",
       " 'DATE',\n",
       " 'EVENT',\n",
       " 'EXPERIENCE',\n",
       " 'FAC',\n",
       " 'GPE',\n",
       " 'INVOLVEMENT',\n",
       " 'LANGUAGE',\n",
       " 'LAW',\n",
       " 'LOC',\n",
       " 'MONEY',\n",
       " 'NORP',\n",
       " 'ORDINAL',\n",
       " 'ORG',\n",
       " 'PERCENT',\n",
       " 'PERSON',\n",
       " 'PRODUCT',\n",
       " 'QUANTITY',\n",
       " 'SKILLS',\n",
       " 'TENURE',\n",
       " 'TIME',\n",
       " 'WORK_OF_ART')"
      ]
     },
     "execution_count": 68,
     "metadata": {},
     "output_type": "execute_result"
    }
   ],
   "source": [
    "ner.labels"
   ]
  },
  {
   "cell_type": "code",
   "execution_count": 69,
   "id": "b12319d1",
   "metadata": {},
   "outputs": [],
   "source": [
    "resume = \"\"\"Rupesh Ghimire\n",
    "rupeshghimire007@gmail.com | +977-9868155925\n",
    "I am a dedicated final-year student pursuing\n",
    "Bachelor's degree in Computer Engineering. I\n",
    "am a goal and process-driven individual\n",
    "striving for continuous growth. Having\n",
    "completed a diverse set of projects, I am now\n",
    "looking for opportunities to further expand\n",
    "my knowledge and skills in a professional\n",
    "environment.\n",
    "EDUCATION\n",
    "Pashchimanchal Campus, IOE, TU\n",
    "Bachelor in Computer Engineering\n",
    "2019-Present\n",
    "Fusemachines\n",
    "Micro-Degree in Artificial Intelligence\n",
    "2023-Present\n",
    "Fellowship Scholar\n",
    "LINKS\n",
    "Github:// rupeshghimire7\n",
    "LinkedIn:// rupesh-ghimire7\n",
    "Medium:// rupeshghimire7\n",
    "LeetCode:// rupeshghimire7\n",
    "INVOLVEMENTS\n",
    "NAAMI | ANAIS-Student Ambassador\n",
    "Apr 2023 - Jun 2023\n",
    "i-CES | Django Mentor\n",
    "Jan 2023 - Feb 2023 | Pokhara\n",
    "Made attendees familiar with Python and Django's MVC\n",
    "architecture, ORM, Templates and Rest Framework.\n",
    "Coding Competition (GCES) - 2023\n",
    "Code with Coffee (i-CES) - 2022\n",
    "PROJECTS\n",
    "LIVER CIRRHOSIS PREDICTION\n",
    "Fusemachines ML Final Project | (Feb 2023- Apr 2023)\n",
    "Worked on the multiclass classification problem with\n",
    "various classifiers to predict the stage of patients' liver.\n",
    "Deployed on Flask.\n",
    "BCT Study Room\n",
    "Software Engineering Project | (May 2022- Jul 2022)\n",
    "A django web-app to enable discussion in groups.\n",
    "BookSuggestor\n",
    "COURSEWORKSDBMS Project\n",
    "Leveraged RAW SQL for database management using\n",
    "MySQL in Django bypassing Django's ORM.\n",
    "UNDERGRADUATETelegram Chat Bot\n",
    "Data Structures & Algorithms\n",
    "Operating Systems\n",
    "Database Management System\n",
    "Software Engineering\n",
    "Artificial Intelligence\n",
    "Computer NetworksPersonal Project\n",
    "Used Telegram API for configuration and python for\n",
    "implementation.\n",
    "Machine Learning AlgorithmsACHIEVEMENTS\n",
    "FUSEMACHINES\n",
    "PROGRAMMING SKILLS\n",
    "EXPERIENCED\n",
    "Python | Django\n",
    "Tailwind CSS | HTML5 | CSS3\n",
    "INTERMEDIATE\n",
    "Pytorch\n",
    "MySQL\n",
    "Pandas | Numpy\n",
    "Matplotlib | Seaborn | Scikit-Learn\n",
    "RESTful API\n",
    "C/C++\n",
    "FAMILIAR\n",
    "Tensorflow/ Keras\n",
    "JavaScript | ReactJS\n",
    "ML Projects\n",
    "Personal Project\n",
    "Collection of Regression and Classification projects.\n",
    "HultPrize 2021\n",
    "To build viable food enterprises to create jobs, stimulate\n",
    "economies, reimagine supply chains, and improve outcomes for\n",
    "10,000,000 people by 2030.\n",
    "OnCampus: 1st Runner Up\n",
    "Regional Summit: Participant via Wildcard\n",
    "Golden Jubilee Scholarship Scheme\n",
    "Awarded from Embassy of India, Kathmandu for\n",
    "Undergrad Studies.\n",
    "LANGUAGES\n",
    "Nepali - Native Proficiency\n",
    "English - Professional Working Proficiency\"\"\""
   ]
  },
  {
   "cell_type": "markdown",
   "id": "c51bf909",
   "metadata": {},
   "source": [
    "#### Creating data for tecnhical skills i.e. Entity Label : SKILLS"
   ]
  },
  {
   "cell_type": "code",
   "execution_count": 70,
   "id": "49b0109a",
   "metadata": {},
   "outputs": [],
   "source": [
    "technical_skills = [\n",
    "    # Programming Languages\n",
    "    \"Python\", \"Java\", \"C++\", \"JavaScript\", \"HTML\", \"CSS\", \"Ruby\", \"Go\", \"Swift\", \"Kotlin\",\n",
    "    \"TypeScript\", \"Rust\", \"Scala\", \"PHP\", \"C#\", \"Objective-C\",\n",
    "\n",
    "    # Web Development\n",
    "    \"Django\", \"Flask\", \"Node.js\", \"Express.js\", \"React\", \"Angular\", \"Vue.js\", \"Next.js\",\n",
    "    \"Spring Boot\", \"Ruby on Rails\", \"ASP.NET\", \"Meteor\", \"HTML5\", \"CSS3\", \"Bootstrap\",\n",
    "\n",
    "    # Databases\n",
    "    \"SQL\", \"MySQL\", \"PostgreSQL\", \"MongoDB\", \"Redis\", \"SQLite\", \"Firebase\", \"Cassandra\",\n",
    "\n",
    "    # Machine Learning / Data Science\n",
    "    \"TensorFlow\", \"PyTorch\", \"Scikit-learn\", \"Keras\", \"Pandas\", \"NumPy\", \"Matplotlib\",\n",
    "    \"Seaborn\", \"NLTK\", \"Spacy\", \"Scrapy\", \"Beautiful Soup\",\n",
    "\n",
    "    # Cloud Computing\n",
    "    \"AWS\", \"Azure\", \"Google Cloud Platform (GCP)\", \"Docker\", \"Kubernetes\", \"Heroku\",\n",
    "\n",
    "    # DevOps\n",
    "    \"Jenkins\", \"Travis CI\", \"GitLab CI\", \"Ansible\", \"Terraform\", \"Docker Compose\",\n",
    "\n",
    "    # Version Control\n",
    "    \"Git\", \"GitHub\", \"Bitbucket\", \"GitLab\",\n",
    "\n",
    "    # Mobile Development\n",
    "    \"React Native\", \"Flutter\", \"Xamarin\", \"SwiftUI\", \"Android SDK\",\n",
    "\n",
    "    # Frameworks\n",
    "    \"React\", \"Angular\", \"Vue.js\", \"Django\", \"Flask\", \"Ruby on Rails\", \"Spring Boot\", \"Express.js\",\n",
    "\n",
    "    # Libraries\n",
    "    \"Pandas\", \"NumPy\", \"Matplotlib\", \"Seaborn\", \"NLTK\", \"Spacy\", \"Scrapy\", \"Beautiful Soup\",\n",
    "\n",
    "    # Frontend Technologies\n",
    "    \"React\", \"Angular\", \"Vue.js\", \"Next.js\", \"TypeScript\", \"Webpack\", \"Babel\", \"SASS\",\n",
    "\n",
    "    # Backend Technologies\n",
    "    \"Node.js\", \"Django\", \"Flask\", \"Spring Boot\", \"Ruby on Rails\", \"Express.js\", \"PHP\",\n",
    "\n",
    "    # Mobile Frameworks\n",
    "    \"React Native\", \"Flutter\", \"Xamarin\", \"SwiftUI\", \"Android SDK\",\n",
    "\n",
    "    # Networking\n",
    "    \"TCP/IP\", \"HTTP/HTTPS\", \"DNS\", \"Load Balancing\", \"Firewalls\", \"Proxy Servers\",\n",
    "\n",
    "    # Security\n",
    "    \"Cybersecurity\", \"Penetration Testing\", \"Cryptography\", \"OWASP\", \"SSL/TLS\",\n",
    "\n",
    "    # Operating Systems\n",
    "    \"Linux\", \"Windows\", \"macOS\", \"Unix\",\n",
    "\n",
    "    # Other Technologies\n",
    "    \"Blockchain\", \"Serverless\", \"Microservices\", \"RESTful API\", \"GraphQL\",\n",
    "\n",
    "    # Project Management / Agile\n",
    "    \"Scrum\", \"Kanban\", \"Agile\", \"JIRA\", \"Trello\",\n",
    "\n",
    "    # Miscellaneous\n",
    "    \"Data Manipulation\", \"Natural Language Processing (NLP)\", \"Computer Vision\",\n",
    "]\n",
    "level = ['beginner', 'intermediate', 'expert']"
   ]
  },
  {
   "cell_type": "code",
   "execution_count": 71,
   "id": "4ede25b9",
   "metadata": {},
   "outputs": [
    {
     "name": "stdout",
     "output_type": "stream",
     "text": [
      "('Python', {'entities': [(0, 6, 'SKILLS')]})\n",
      "('Java', {'entities': [(0, 4, 'SKILLS')]})\n",
      "('C++', {'entities': [(0, 3, 'SKILLS')]})\n",
      "('JavaScript', {'entities': [(0, 10, 'SKILLS')]})\n",
      "('HTML', {'entities': [(0, 4, 'SKILLS')]})\n",
      "('JIRA', {'entities': [(0, 4, 'SKILLS')]})\n",
      "('Trello', {'entities': [(0, 6, 'SKILLS')]})\n",
      "('Data Manipulation', {'entities': [(0, 17, 'SKILLS')]})\n",
      "('Natural Language Processing (NLP)', {'entities': [(0, 33, 'SKILLS')]})\n",
      "('Computer Vision', {'entities': [(0, 15, 'SKILLS')]})\n",
      "TRAIN_DATA length 136\n"
     ]
    }
   ],
   "source": [
    "def generate_training_data(skill_list,level):\n",
    "    training_data = []\n",
    "\n",
    "    for i in range(len(skill_list)):\n",
    "        skill = skill_list[i]\n",
    "        start_index = 0\n",
    "        end_index = start_index + len(skill)\n",
    "        training_data.append((skill, {\"entities\": [(start_index, end_index, \"SKILLS\")]}))\n",
    "        \n",
    "#     for i in range(len(skill_list)):\n",
    "#         skill = random.choice(skill_list)\n",
    "#         level_choice = random.choice(level)\n",
    "#         skill_ = f\"I am {level_choice} at {skill}\"\n",
    "#         start_index = skill_.find(skill)\n",
    "#         end_index = start_index + len(skill)\n",
    "#         training_data.append((skill_, {\"entities\": [(start_index, end_index, \"SKILLS\")]}))\n",
    "\n",
    "    return training_data\n",
    "\n",
    "TRAIN_DATA = generate_training_data(technical_skills, level)\n",
    "\n",
    "for data in TRAIN_DATA[:5]:\n",
    "    print(data)\n",
    "for data in TRAIN_DATA[-5:]:\n",
    "    print(data)\n",
    "print(\"TRAIN_DATA length\", len(TRAIN_DATA))"
   ]
  },
  {
   "cell_type": "code",
   "execution_count": 72,
   "id": "1a5bbe3d",
   "metadata": {},
   "outputs": [
    {
     "name": "stdout",
     "output_type": "stream",
     "text": [
      "Losses {'ner': 212.9014974291376}\n",
      "Losses {'ner': 95.74202224332839}\n",
      "Losses {'ner': 82.96744525246322}\n",
      "Losses {'ner': 68.51924511865946}\n",
      "Losses {'ner': 60.324588711198885}\n",
      "Losses {'ner': 35.311427149805034}\n",
      "Losses {'ner': 18.399146400754123}\n",
      "Losses {'ner': 8.051404384094292}\n",
      "Losses {'ner': 5.046069379569452}\n",
      "Losses {'ner': 1.7964776503486903}\n"
     ]
    }
   ],
   "source": [
    "# TRAINING THE MODEL\n",
    "with nlp.disable_pipes(*unaffected_pipes):\n",
    "\n",
    "    # Training for 30 iterations\n",
    "    for iteration in range(10):\n",
    "\n",
    "        # Shuffling examples before every iteration\n",
    "        random.shuffle(TRAIN_DATA)\n",
    "        losses = {}\n",
    "\n",
    "        # Batch up the examples using spaCy's minibatch\n",
    "        batches = minibatch(TRAIN_DATA, size=compounding(4.0, 32.0, 1.001))\n",
    "\n",
    "        for batch in batches:\n",
    "            examples = []\n",
    "            for text, annotation in batch:\n",
    "                example = Example.from_dict(nlp.make_doc(text), annotation)\n",
    "                examples.append(example)\n",
    "\n",
    "            nlp.update(\n",
    "                examples,  # batch of Example objects\n",
    "                drop=0.5,  # dropout - make it harder to memorize data\n",
    "                losses=losses,\n",
    "            )\n",
    "\n",
    "        print(\"Losses\", losses)"
   ]
  },
  {
   "cell_type": "code",
   "execution_count": 73,
   "id": "2a64c686",
   "metadata": {},
   "outputs": [
    {
     "name": "stdout",
     "output_type": "stream",
     "text": [
      "Entities ['Rupesh Ghimire', '+977-9868155925', 'I am a dedicated final-year', 'student pursuing\\nBachelor', 'in Computer Engineering', 'I\\nam', 'process-driven individual\\nstriving for continuous growth', 'Having\\ncompleted a diverse', 'projects', 'I am now\\nlooking for opportunities to further expand\\nmy knowledge and skills in a professional\\nenvironment.\\n', 'EDUCATION', 'Pashchimanchal Campus, IOE', 'TU\\nBachelor in Computer Engineering', '2019-Present\\nFusemachines\\nMicro-Degree', 'in Artificial Intelligence', '2023-Present\\nFellowship Scholar\\nLINKS\\nGithub:// rupeshghimire7', 'rupesh-ghimire7', 'Medium:// rupeshghimire7', 'LeetCode:// rupeshghimire7\\nINVOLVEMENTS\\nNAAMI', 'ANAIS-Student Ambassador\\nApr', '2023 - Jun', 'i-CES', '|', 'Django Mentor', 'Jan 2023 - Feb', '|', 'Pokhara\\nMade', \"Python and Django's MVC\\narchitecture, ORM, Templates\", 'Rest Framework', 'Coding Competition (GCES) - 2023\\nCode with Coffee (i-CES) -', '2022\\nPROJECTS\\nLIVER CIRRHOSIS PREDICTION\\nFusemachines ML Final Project', '(Feb 2023- Apr 2023', ')\\nWorked on the multiclass classification problem', 'with', \"predict the stage of patients' liver.\\n\", 'Deployed on Flask', 'BCT Study Room\\nSoftware Engineering Project', '(', 'May 2022- Jul 2022', ')\\n', 'web-app', 'discussion', 'BookSuggestor\\nCOURSEWORKSDBMS Project\\nLeveraged RAW SQL', \"management using\\nMySQL in Django bypassing Django's ORM.\\n\", 'UNDERGRADUATETelegram Chat Bot\\nData Structures & Algorithms\\nOperating Systems\\nDatabase Management System\\nSoftware Engineering\\nArtificial Intelligence\\nComputer NetworksPersonal Project\\nUsed Telegram API for configuration and python for\\nimplementation', 'Machine Learning AlgorithmsACHIEVEMENTS\\nFUSEMACHINES\\nPROGRAMMING SKILLS\\nEXPERIENCED\\nPython', 'Django\\nTailwind CSS', 'HTML5', 'CSS3\\nINTERMEDIATE\\nPytorch', 'MySQL\\nPandas', 'Numpy\\nMatplotlib', 'Seaborn', 'Scikit-Learn\\nRESTful API\\nC/C++\\nFAMILIAR\\nTensorflow/ Keras', 'JavaScript', 'ML Projects\\nPersonal Project\\nCollection of Regression and Classification', 'HultPrize', 'To', 'viable food enterprises to create jobs', ', stimulate\\neconomies', 'reimagine supply chains', 'improve', 'outcomes for\\n10,000,000', 'by', '2030', '.\\n', 'OnCampus', ':', '1st Runner Up\\nRegional Summit: Participant', 'Wildcard\\nGolden Jubilee Scholarship Scheme\\nAwarded from Embassy of India', 'Kathmandu for\\nUndergrad Studies', 'LANGUAGES\\nNepali - Native Proficiency', 'English - Professional Working Proficiency']\n"
     ]
    }
   ],
   "source": [
    "doc = nlp(resume)\n",
    "# print(\"Entities in '%s'\" % resume)\n",
    "print(\"Entities\", [(ent.text) for ent in doc.ents if ent.label_=='SKILLS'])"
   ]
  },
  {
   "cell_type": "markdown",
   "id": "17f26446",
   "metadata": {},
   "source": [
    "**We can see out trained model did pick up some tech skills under label SKILLS as trained but it has picked up other content as skills to. First the model is over fitted in terms that our model isn't yet trained on other labels and another is that our train data didn't have proper generalization of data. Also, it seems there is also need for text cleaning.**"
   ]
  },
  {
   "cell_type": "code",
   "execution_count": null,
   "id": "24c5e6f7",
   "metadata": {},
   "outputs": [],
   "source": []
  },
  {
   "cell_type": "code",
   "execution_count": null,
   "id": "0e3a6286",
   "metadata": {},
   "outputs": [],
   "source": []
  },
  {
   "cell_type": "code",
   "execution_count": null,
   "id": "e8a38601",
   "metadata": {},
   "outputs": [],
   "source": []
  },
  {
   "cell_type": "code",
   "execution_count": null,
   "id": "c172c0fe",
   "metadata": {},
   "outputs": [],
   "source": []
  }
 ],
 "metadata": {
  "kernelspec": {
   "display_name": "Python 3 (ipykernel)",
   "language": "python",
   "name": "python3"
  },
  "language_info": {
   "codemirror_mode": {
    "name": "ipython",
    "version": 3
   },
   "file_extension": ".py",
   "mimetype": "text/x-python",
   "name": "python",
   "nbconvert_exporter": "python",
   "pygments_lexer": "ipython3",
   "version": "3.10.6"
  }
 },
 "nbformat": 4,
 "nbformat_minor": 5
}
